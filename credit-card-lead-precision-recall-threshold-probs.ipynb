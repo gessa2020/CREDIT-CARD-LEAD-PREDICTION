{
 "cells": [
  {
   "cell_type": "code",
   "execution_count": 1,
   "id": "2de6558e",
   "metadata": {
    "_cell_guid": "b1076dfc-b9ad-4769-8c92-a6c4dae69d19",
    "_uuid": "8f2839f25d086af736a60e9eeb907d3b93b6e0e5",
    "execution": {
     "iopub.execute_input": "2021-11-30T07:57:47.998158Z",
     "iopub.status.busy": "2021-11-30T07:57:47.997203Z",
     "iopub.status.idle": "2021-11-30T07:57:48.020415Z",
     "shell.execute_reply": "2021-11-30T07:57:48.020927Z",
     "shell.execute_reply.started": "2021-11-30T07:49:30.975748Z"
    },
    "papermill": {
     "duration": 0.111287,
     "end_time": "2021-11-30T07:57:48.021325",
     "exception": false,
     "start_time": "2021-11-30T07:57:47.910038",
     "status": "completed"
    },
    "tags": []
   },
   "outputs": [
    {
     "name": "stdout",
     "output_type": "stream",
     "text": [
      "/kaggle/input/jobathon-may-2021-credit-card-lead-prediction/sample_submission.csv\n",
      "/kaggle/input/jobathon-may-2021-credit-card-lead-prediction/train.csv\n",
      "/kaggle/input/jobathon-may-2021-credit-card-lead-prediction/test.csv\n"
     ]
    }
   ],
   "source": [
    "import os\n",
    "for dirname, _, filenames in os.walk('/kaggle/input'):\n",
    "    for filename in filenames:\n",
    "        print(os.path.join(dirname, filename))\n"
   ]
  },
  {
   "cell_type": "markdown",
   "id": "324afbb4",
   "metadata": {
    "papermill": {
     "duration": 0.073258,
     "end_time": "2021-11-30T07:57:48.193602",
     "exception": false,
     "start_time": "2021-11-30T07:57:48.120344",
     "status": "completed"
    },
    "tags": []
   },
   "source": [
    "# **WORKING WITH IMBALANCE DATA**"
   ]
  },
  {
   "cell_type": "markdown",
   "id": "5bf5414e",
   "metadata": {
    "papermill": {
     "duration": 0.072286,
     "end_time": "2021-11-30T07:57:48.406545",
     "exception": false,
     "start_time": "2021-11-30T07:57:48.334259",
     "status": "completed"
    },
    "tags": []
   },
   "source": [
    "**Python · JOB-A-THON - May 2021- Credit Card Lead Prediction**"
   ]
  },
  {
   "cell_type": "markdown",
   "id": "c0c2d431",
   "metadata": {
    "papermill": {
     "duration": 0.073218,
     "end_time": "2021-11-30T07:57:48.553543",
     "exception": false,
     "start_time": "2021-11-30T07:57:48.480325",
     "status": "completed"
    },
    "tags": []
   },
   "source": [
    "Credit Card Lead Prediction\n",
    "\n",
    "Happy Customer Bank is a mid-sized private bank that deals in all kinds of banking products, like Savings accounts, Current accounts, investment products, credit products, among other offerings.\n",
    "\n",
    "The bank also cross-sells products to its existing customers and to do so they use different kinds of communication like telecasting, e-mails, recommendations on net banking, mobile banking, etc.\n",
    "\n",
    "In this case, the Happy Customer Bank wants to cross-sell its credit cards to its existing customers. The bank has identified a set of customers that are eligible for taking these credit cards.\n",
    "\n",
    "Now, the bank is looking for your help in identifying customers that could show higher intent towards a recommended credit card, given:\n",
    "\n",
    "This dataset was part of May 2021 Jobathon conducted my analytics vidhya, for more info check:https://datahack.analyticsvidhya.com/contest/job-a-thon-2/"
   ]
  },
  {
   "cell_type": "markdown",
   "id": "f396ecfd",
   "metadata": {
    "papermill": {
     "duration": 0.072501,
     "end_time": "2021-11-30T07:57:48.698596",
     "exception": false,
     "start_time": "2021-11-30T07:57:48.626095",
     "status": "completed"
    },
    "tags": []
   },
   "source": [
    "**Data columns**\n",
    "ID :- Unique Identifier for a row\n",
    "\n",
    "Gender :- Gender of the Customer\n",
    "\n",
    "Age :- Age of the Customer (in Years)\n",
    "\n",
    "Region_Code :- Code of the Region for the customers\n",
    "\n",
    "Occupation :- Occupation Type for the customer\n",
    "\n",
    "Channel_Code :- Acquisition Channel Code for the Customer (Encoded)\n",
    "\n",
    "Vintage :- Vintage for the Customer (In Months)\n",
    "\n",
    "Credit_Product :- If the Customer has any active credit product (Home loan,Personal loan, Credit Card etc.)\n",
    "\n",
    "AvgAccountBalance :- Average Account Balance for the Customer in last 12 Months\n",
    "\n",
    "Is_Active :- If the Customer is Active in last 3 Months\n",
    "\n",
    "**Target**\n",
    "**Is_Lead :- If the Customer is interested for the Credit Card\n",
    "0 : Customer is not interested\n",
    "1 : Customer is interested**"
   ]
  },
  {
   "cell_type": "markdown",
   "id": "349649e2",
   "metadata": {
    "papermill": {
     "duration": 0.072035,
     "end_time": "2021-11-30T07:57:48.843069",
     "exception": false,
     "start_time": "2021-11-30T07:57:48.771034",
     "status": "completed"
    },
    "tags": []
   },
   "source": [
    "**OBJECTIVE: \n",
    "To build a predictive model that will be able to classify customers who will show a higher intent towards a credit card.**"
   ]
  },
  {
   "cell_type": "markdown",
   "id": "ffd1673a",
   "metadata": {
    "papermill": {
     "duration": 0.073431,
     "end_time": "2021-11-30T07:57:48.988761",
     "exception": false,
     "start_time": "2021-11-30T07:57:48.915330",
     "status": "completed"
    },
    "tags": []
   },
   "source": [
    "**This is a binary classification problem considering our target column which has two possibilities, a possible lead customer and not a possible lead.We are going to build a binary classification model to solve this problem.\n",
    "This is going to be an end to end classification machine learning model for this problem.**"
   ]
  },
  {
   "cell_type": "markdown",
   "id": "66e98218",
   "metadata": {
    "papermill": {
     "duration": 0.073462,
     "end_time": "2021-11-30T07:57:49.135301",
     "exception": false,
     "start_time": "2021-11-30T07:57:49.061839",
     "status": "completed"
    },
    "tags": []
   },
   "source": [
    "# **1. Importation of libraries to be used in this project**"
   ]
  },
  {
   "cell_type": "code",
   "execution_count": 2,
   "id": "2f6fd889",
   "metadata": {
    "execution": {
     "iopub.execute_input": "2021-11-30T07:57:49.290661Z",
     "iopub.status.busy": "2021-11-30T07:57:49.289663Z",
     "iopub.status.idle": "2021-11-30T07:57:50.826574Z",
     "shell.execute_reply": "2021-11-30T07:57:50.825200Z",
     "shell.execute_reply.started": "2021-11-30T07:49:30.995085Z"
    },
    "papermill": {
     "duration": 1.618012,
     "end_time": "2021-11-30T07:57:50.826759",
     "exception": false,
     "start_time": "2021-11-30T07:57:49.208747",
     "status": "completed"
    },
    "tags": []
   },
   "outputs": [],
   "source": [
    "#importation of data manipulation, plotting and grid formating Modules\n",
    "import pandas as pd\n",
    "import numpy as np\n",
    "from matplotlib import pyplot as plt\n",
    "%matplotlib inline\n",
    "import seaborn as sns\n",
    "\n",
    "#importing feature engineering and preprocessing modules\n",
    "from sklearn.preprocessing import PolynomialFeatures\n",
    "from sklearn.preprocessing import StandardScaler\n",
    "from sklearn.model_selection import train_test_split\n",
    "\n",
    "# Importing Classifier Modules\n",
    "from sklearn.ensemble import RandomForestClassifier,GradientBoostingClassifier\n",
    "from xgboost import XGBClassifier\n",
    "from sklearn.dummy import DummyClassifier\n",
    "\n",
    "#metrics evaluation Modules\n",
    "from sklearn.metrics import confusion_matrix,classification_report\n",
    "from sklearn.metrics import precision_recall_curve,roc_auc_score\n",
    "from sklearn.metrics import f1_score,auc\n",
    "\n",
    "import warnings\n",
    "warnings.filterwarnings(\"ignore\")\n"
   ]
  },
  {
   "cell_type": "code",
   "execution_count": 3,
   "id": "a107406c",
   "metadata": {
    "execution": {
     "iopub.execute_input": "2021-11-30T07:57:50.980957Z",
     "iopub.status.busy": "2021-11-30T07:57:50.980145Z",
     "iopub.status.idle": "2021-11-30T07:57:51.843628Z",
     "shell.execute_reply": "2021-11-30T07:57:51.844299Z",
     "shell.execute_reply.started": "2021-11-30T07:49:32.086697Z"
    },
    "papermill": {
     "duration": 0.943933,
     "end_time": "2021-11-30T07:57:51.844528",
     "exception": false,
     "start_time": "2021-11-30T07:57:50.900595",
     "status": "completed"
    },
    "tags": []
   },
   "outputs": [],
   "source": [
    "#Reading in the data\n",
    "train = pd.read_csv('/kaggle/input/jobathon-may-2021-credit-card-lead-prediction/train.csv')\n",
    "test = pd.read_csv('/kaggle/input/jobathon-may-2021-credit-card-lead-prediction/test.csv')"
   ]
  },
  {
   "cell_type": "markdown",
   "id": "7e296d70",
   "metadata": {
    "papermill": {
     "duration": 0.074458,
     "end_time": "2021-11-30T07:57:51.993855",
     "exception": false,
     "start_time": "2021-11-30T07:57:51.919397",
     "status": "completed"
    },
    "tags": []
   },
   "source": [
    "**2. DATA INSPECTION,PREPARATION AND FORMATTING**"
   ]
  },
  {
   "cell_type": "code",
   "execution_count": 4,
   "id": "e73956c6",
   "metadata": {
    "execution": {
     "iopub.execute_input": "2021-11-30T07:57:52.147088Z",
     "iopub.status.busy": "2021-11-30T07:57:52.146063Z",
     "iopub.status.idle": "2021-11-30T07:57:52.154929Z",
     "shell.execute_reply": "2021-11-30T07:57:52.155567Z",
     "shell.execute_reply.started": "2021-11-30T07:49:32.808799Z"
    },
    "papermill": {
     "duration": 0.086366,
     "end_time": "2021-11-30T07:57:52.155764",
     "exception": false,
     "start_time": "2021-11-30T07:57:52.069398",
     "status": "completed"
    },
    "tags": []
   },
   "outputs": [
    {
     "data": {
      "text/plain": [
       "((245725, 11), (105312, 10))"
      ]
     },
     "execution_count": 4,
     "metadata": {},
     "output_type": "execute_result"
    }
   ],
   "source": [
    "#size of train and test data respectively\n",
    "train.shape, test.shape"
   ]
  },
  {
   "cell_type": "code",
   "execution_count": 5,
   "id": "a102648a",
   "metadata": {
    "execution": {
     "iopub.execute_input": "2021-11-30T07:57:52.311596Z",
     "iopub.status.busy": "2021-11-30T07:57:52.310565Z",
     "iopub.status.idle": "2021-11-30T07:57:52.332476Z",
     "shell.execute_reply": "2021-11-30T07:57:52.333165Z",
     "shell.execute_reply.started": "2021-11-30T07:49:32.817616Z"
    },
    "papermill": {
     "duration": 0.101084,
     "end_time": "2021-11-30T07:57:52.333378",
     "exception": false,
     "start_time": "2021-11-30T07:57:52.232294",
     "status": "completed"
    },
    "tags": []
   },
   "outputs": [
    {
     "data": {
      "text/html": [
       "<div>\n",
       "<style scoped>\n",
       "    .dataframe tbody tr th:only-of-type {\n",
       "        vertical-align: middle;\n",
       "    }\n",
       "\n",
       "    .dataframe tbody tr th {\n",
       "        vertical-align: top;\n",
       "    }\n",
       "\n",
       "    .dataframe thead th {\n",
       "        text-align: right;\n",
       "    }\n",
       "</style>\n",
       "<table border=\"1\" class=\"dataframe\">\n",
       "  <thead>\n",
       "    <tr style=\"text-align: right;\">\n",
       "      <th></th>\n",
       "      <th>ID</th>\n",
       "      <th>Gender</th>\n",
       "      <th>Age</th>\n",
       "      <th>Region_Code</th>\n",
       "      <th>Occupation</th>\n",
       "      <th>Channel_Code</th>\n",
       "      <th>Vintage</th>\n",
       "      <th>Credit_Product</th>\n",
       "      <th>Avg_Account_Balance</th>\n",
       "      <th>Is_Active</th>\n",
       "      <th>Is_Lead</th>\n",
       "    </tr>\n",
       "  </thead>\n",
       "  <tbody>\n",
       "    <tr>\n",
       "      <th>0</th>\n",
       "      <td>NNVBBKZB</td>\n",
       "      <td>Female</td>\n",
       "      <td>73</td>\n",
       "      <td>RG268</td>\n",
       "      <td>Other</td>\n",
       "      <td>X3</td>\n",
       "      <td>43</td>\n",
       "      <td>No</td>\n",
       "      <td>1045696</td>\n",
       "      <td>No</td>\n",
       "      <td>0</td>\n",
       "    </tr>\n",
       "    <tr>\n",
       "      <th>1</th>\n",
       "      <td>IDD62UNG</td>\n",
       "      <td>Female</td>\n",
       "      <td>30</td>\n",
       "      <td>RG277</td>\n",
       "      <td>Salaried</td>\n",
       "      <td>X1</td>\n",
       "      <td>32</td>\n",
       "      <td>No</td>\n",
       "      <td>581988</td>\n",
       "      <td>No</td>\n",
       "      <td>0</td>\n",
       "    </tr>\n",
       "    <tr>\n",
       "      <th>2</th>\n",
       "      <td>HD3DSEMC</td>\n",
       "      <td>Female</td>\n",
       "      <td>56</td>\n",
       "      <td>RG268</td>\n",
       "      <td>Self_Employed</td>\n",
       "      <td>X3</td>\n",
       "      <td>26</td>\n",
       "      <td>No</td>\n",
       "      <td>1484315</td>\n",
       "      <td>Yes</td>\n",
       "      <td>0</td>\n",
       "    </tr>\n",
       "    <tr>\n",
       "      <th>3</th>\n",
       "      <td>BF3NC7KV</td>\n",
       "      <td>Male</td>\n",
       "      <td>34</td>\n",
       "      <td>RG270</td>\n",
       "      <td>Salaried</td>\n",
       "      <td>X1</td>\n",
       "      <td>19</td>\n",
       "      <td>No</td>\n",
       "      <td>470454</td>\n",
       "      <td>No</td>\n",
       "      <td>0</td>\n",
       "    </tr>\n",
       "    <tr>\n",
       "      <th>4</th>\n",
       "      <td>TEASRWXV</td>\n",
       "      <td>Female</td>\n",
       "      <td>30</td>\n",
       "      <td>RG282</td>\n",
       "      <td>Salaried</td>\n",
       "      <td>X1</td>\n",
       "      <td>33</td>\n",
       "      <td>No</td>\n",
       "      <td>886787</td>\n",
       "      <td>No</td>\n",
       "      <td>0</td>\n",
       "    </tr>\n",
       "  </tbody>\n",
       "</table>\n",
       "</div>"
      ],
      "text/plain": [
       "         ID  Gender  Age Region_Code     Occupation Channel_Code  Vintage  \\\n",
       "0  NNVBBKZB  Female   73       RG268          Other           X3       43   \n",
       "1  IDD62UNG  Female   30       RG277       Salaried           X1       32   \n",
       "2  HD3DSEMC  Female   56       RG268  Self_Employed           X3       26   \n",
       "3  BF3NC7KV    Male   34       RG270       Salaried           X1       19   \n",
       "4  TEASRWXV  Female   30       RG282       Salaried           X1       33   \n",
       "\n",
       "  Credit_Product  Avg_Account_Balance Is_Active  Is_Lead  \n",
       "0             No              1045696        No        0  \n",
       "1             No               581988        No        0  \n",
       "2             No              1484315       Yes        0  \n",
       "3             No               470454        No        0  \n",
       "4             No               886787        No        0  "
      ]
     },
     "execution_count": 5,
     "metadata": {},
     "output_type": "execute_result"
    }
   ],
   "source": [
    "#snapshot of data\n",
    "train.head()"
   ]
  },
  {
   "cell_type": "code",
   "execution_count": 6,
   "id": "f19e0411",
   "metadata": {
    "execution": {
     "iopub.execute_input": "2021-11-30T07:57:52.486477Z",
     "iopub.status.busy": "2021-11-30T07:57:52.485377Z",
     "iopub.status.idle": "2021-11-30T07:57:52.499305Z",
     "shell.execute_reply": "2021-11-30T07:57:52.499929Z",
     "shell.execute_reply.started": "2021-11-30T07:49:32.843213Z"
    },
    "papermill": {
     "duration": 0.092529,
     "end_time": "2021-11-30T07:57:52.500139",
     "exception": false,
     "start_time": "2021-11-30T07:57:52.407610",
     "status": "completed"
    },
    "tags": []
   },
   "outputs": [
    {
     "data": {
      "text/html": [
       "<div>\n",
       "<style scoped>\n",
       "    .dataframe tbody tr th:only-of-type {\n",
       "        vertical-align: middle;\n",
       "    }\n",
       "\n",
       "    .dataframe tbody tr th {\n",
       "        vertical-align: top;\n",
       "    }\n",
       "\n",
       "    .dataframe thead th {\n",
       "        text-align: right;\n",
       "    }\n",
       "</style>\n",
       "<table border=\"1\" class=\"dataframe\">\n",
       "  <thead>\n",
       "    <tr style=\"text-align: right;\">\n",
       "      <th></th>\n",
       "      <th>ID</th>\n",
       "      <th>Gender</th>\n",
       "      <th>Age</th>\n",
       "      <th>Region_Code</th>\n",
       "      <th>Occupation</th>\n",
       "      <th>Channel_Code</th>\n",
       "      <th>Vintage</th>\n",
       "      <th>Credit_Product</th>\n",
       "      <th>Avg_Account_Balance</th>\n",
       "      <th>Is_Active</th>\n",
       "    </tr>\n",
       "  </thead>\n",
       "  <tbody>\n",
       "    <tr>\n",
       "      <th>0</th>\n",
       "      <td>VBENBARO</td>\n",
       "      <td>Male</td>\n",
       "      <td>29</td>\n",
       "      <td>RG254</td>\n",
       "      <td>Other</td>\n",
       "      <td>X1</td>\n",
       "      <td>25</td>\n",
       "      <td>Yes</td>\n",
       "      <td>742366</td>\n",
       "      <td>No</td>\n",
       "    </tr>\n",
       "    <tr>\n",
       "      <th>1</th>\n",
       "      <td>CCMEWNKY</td>\n",
       "      <td>Male</td>\n",
       "      <td>43</td>\n",
       "      <td>RG268</td>\n",
       "      <td>Other</td>\n",
       "      <td>X2</td>\n",
       "      <td>49</td>\n",
       "      <td>NaN</td>\n",
       "      <td>925537</td>\n",
       "      <td>No</td>\n",
       "    </tr>\n",
       "    <tr>\n",
       "      <th>2</th>\n",
       "      <td>VK3KGA9M</td>\n",
       "      <td>Male</td>\n",
       "      <td>31</td>\n",
       "      <td>RG270</td>\n",
       "      <td>Salaried</td>\n",
       "      <td>X1</td>\n",
       "      <td>14</td>\n",
       "      <td>No</td>\n",
       "      <td>215949</td>\n",
       "      <td>No</td>\n",
       "    </tr>\n",
       "    <tr>\n",
       "      <th>3</th>\n",
       "      <td>TT8RPZVC</td>\n",
       "      <td>Male</td>\n",
       "      <td>29</td>\n",
       "      <td>RG272</td>\n",
       "      <td>Other</td>\n",
       "      <td>X1</td>\n",
       "      <td>33</td>\n",
       "      <td>No</td>\n",
       "      <td>868070</td>\n",
       "      <td>No</td>\n",
       "    </tr>\n",
       "    <tr>\n",
       "      <th>4</th>\n",
       "      <td>SHQZEYTZ</td>\n",
       "      <td>Female</td>\n",
       "      <td>29</td>\n",
       "      <td>RG270</td>\n",
       "      <td>Other</td>\n",
       "      <td>X1</td>\n",
       "      <td>19</td>\n",
       "      <td>No</td>\n",
       "      <td>657087</td>\n",
       "      <td>No</td>\n",
       "    </tr>\n",
       "  </tbody>\n",
       "</table>\n",
       "</div>"
      ],
      "text/plain": [
       "         ID  Gender  Age Region_Code Occupation Channel_Code  Vintage  \\\n",
       "0  VBENBARO    Male   29       RG254      Other           X1       25   \n",
       "1  CCMEWNKY    Male   43       RG268      Other           X2       49   \n",
       "2  VK3KGA9M    Male   31       RG270   Salaried           X1       14   \n",
       "3  TT8RPZVC    Male   29       RG272      Other           X1       33   \n",
       "4  SHQZEYTZ  Female   29       RG270      Other           X1       19   \n",
       "\n",
       "  Credit_Product  Avg_Account_Balance Is_Active  \n",
       "0            Yes               742366        No  \n",
       "1            NaN               925537        No  \n",
       "2             No               215949        No  \n",
       "3             No               868070        No  \n",
       "4             No               657087        No  "
      ]
     },
     "execution_count": 6,
     "metadata": {},
     "output_type": "execute_result"
    }
   ],
   "source": [
    "test.head()"
   ]
  },
  {
   "cell_type": "code",
   "execution_count": 7,
   "id": "1eec393f",
   "metadata": {
    "execution": {
     "iopub.execute_input": "2021-11-30T07:57:52.655922Z",
     "iopub.status.busy": "2021-11-30T07:57:52.651272Z",
     "iopub.status.idle": "2021-11-30T07:57:52.863896Z",
     "shell.execute_reply": "2021-11-30T07:57:52.864500Z",
     "shell.execute_reply.started": "2021-11-30T07:49:32.862598Z"
    },
    "papermill": {
     "duration": 0.290474,
     "end_time": "2021-11-30T07:57:52.864735",
     "exception": false,
     "start_time": "2021-11-30T07:57:52.574261",
     "status": "completed"
    },
    "tags": []
   },
   "outputs": [
    {
     "name": "stdout",
     "output_type": "stream",
     "text": [
      "<class 'pandas.core.frame.DataFrame'>\n",
      "RangeIndex: 245725 entries, 0 to 245724\n",
      "Data columns (total 11 columns):\n",
      " #   Column               Non-Null Count   Dtype \n",
      "---  ------               --------------   ----- \n",
      " 0   ID                   245725 non-null  object\n",
      " 1   Gender               245725 non-null  object\n",
      " 2   Age                  245725 non-null  int64 \n",
      " 3   Region_Code          245725 non-null  object\n",
      " 4   Occupation           245725 non-null  object\n",
      " 5   Channel_Code         245725 non-null  object\n",
      " 6   Vintage              245725 non-null  int64 \n",
      " 7   Credit_Product       216400 non-null  object\n",
      " 8   Avg_Account_Balance  245725 non-null  int64 \n",
      " 9   Is_Active            245725 non-null  object\n",
      " 10  Is_Lead              245725 non-null  int64 \n",
      "dtypes: int64(4), object(7)\n",
      "memory usage: 20.6+ MB\n"
     ]
    }
   ],
   "source": [
    "train.info()"
   ]
  },
  {
   "cell_type": "markdown",
   "id": "c0877535",
   "metadata": {
    "papermill": {
     "duration": 0.07458,
     "end_time": "2021-11-30T07:57:53.015400",
     "exception": false,
     "start_time": "2021-11-30T07:57:52.940820",
     "status": "completed"
    },
    "tags": []
   },
   "source": [
    "From the code above, we can deduce: \n",
    "1. We have 7 variables of type object(categorical columns) and 4 numerical columns\n",
    "2. We have one column of credit_product with missing values\n",
    "3. We have a total of 10 variables to act as our predictor variables and one target variable Is_lead."
   ]
  },
  {
   "cell_type": "code",
   "execution_count": 8,
   "id": "5f50a1bc",
   "metadata": {
    "execution": {
     "iopub.execute_input": "2021-11-30T07:57:53.173424Z",
     "iopub.status.busy": "2021-11-30T07:57:53.172647Z",
     "iopub.status.idle": "2021-11-30T07:57:53.265517Z",
     "shell.execute_reply": "2021-11-30T07:57:53.266022Z",
     "shell.execute_reply.started": "2021-11-30T07:49:32.958649Z"
    },
    "papermill": {
     "duration": 0.173375,
     "end_time": "2021-11-30T07:57:53.266274",
     "exception": false,
     "start_time": "2021-11-30T07:57:53.092899",
     "status": "completed"
    },
    "tags": []
   },
   "outputs": [
    {
     "name": "stdout",
     "output_type": "stream",
     "text": [
      "<class 'pandas.core.frame.DataFrame'>\n",
      "RangeIndex: 105312 entries, 0 to 105311\n",
      "Data columns (total 10 columns):\n",
      " #   Column               Non-Null Count   Dtype \n",
      "---  ------               --------------   ----- \n",
      " 0   ID                   105312 non-null  object\n",
      " 1   Gender               105312 non-null  object\n",
      " 2   Age                  105312 non-null  int64 \n",
      " 3   Region_Code          105312 non-null  object\n",
      " 4   Occupation           105312 non-null  object\n",
      " 5   Channel_Code         105312 non-null  object\n",
      " 6   Vintage              105312 non-null  int64 \n",
      " 7   Credit_Product       92790 non-null   object\n",
      " 8   Avg_Account_Balance  105312 non-null  int64 \n",
      " 9   Is_Active            105312 non-null  object\n",
      "dtypes: int64(3), object(7)\n",
      "memory usage: 8.0+ MB\n"
     ]
    }
   ],
   "source": [
    "test.info()"
   ]
  },
  {
   "cell_type": "markdown",
   "id": "5eb8b893",
   "metadata": {
    "papermill": {
     "duration": 0.075866,
     "end_time": "2021-11-30T07:57:53.417696",
     "exception": false,
     "start_time": "2021-11-30T07:57:53.341830",
     "status": "completed"
    },
    "tags": []
   },
   "source": [
    "The test dataset also has some missing values in the Credit product column. we shall fill in these missing values as well"
   ]
  },
  {
   "cell_type": "code",
   "execution_count": 9,
   "id": "7c7defbb",
   "metadata": {
    "execution": {
     "iopub.execute_input": "2021-11-30T07:57:53.572673Z",
     "iopub.status.busy": "2021-11-30T07:57:53.571972Z",
     "iopub.status.idle": "2021-11-30T07:57:53.816279Z",
     "shell.execute_reply": "2021-11-30T07:57:53.815685Z",
     "shell.execute_reply.started": "2021-11-30T07:49:33.007205Z"
    },
    "papermill": {
     "duration": 0.323175,
     "end_time": "2021-11-30T07:57:53.816454",
     "exception": false,
     "start_time": "2021-11-30T07:57:53.493279",
     "status": "completed"
    },
    "tags": []
   },
   "outputs": [
    {
     "data": {
      "text/plain": [
       "0"
      ]
     },
     "execution_count": 9,
     "metadata": {},
     "output_type": "execute_result"
    }
   ],
   "source": [
    "#checking for dupliated rows\n",
    "train.duplicated().sum()"
   ]
  },
  {
   "cell_type": "code",
   "execution_count": 10,
   "id": "231430a1",
   "metadata": {
    "execution": {
     "iopub.execute_input": "2021-11-30T07:57:53.981531Z",
     "iopub.status.busy": "2021-11-30T07:57:53.974594Z",
     "iopub.status.idle": "2021-11-30T07:57:54.030238Z",
     "shell.execute_reply": "2021-11-30T07:57:54.029630Z",
     "shell.execute_reply.started": "2021-11-30T07:49:33.233517Z"
    },
    "papermill": {
     "duration": 0.136551,
     "end_time": "2021-11-30T07:57:54.030421",
     "exception": false,
     "start_time": "2021-11-30T07:57:53.893870",
     "status": "completed"
    },
    "tags": []
   },
   "outputs": [
    {
     "data": {
      "text/html": [
       "<div>\n",
       "<style scoped>\n",
       "    .dataframe tbody tr th:only-of-type {\n",
       "        vertical-align: middle;\n",
       "    }\n",
       "\n",
       "    .dataframe tbody tr th {\n",
       "        vertical-align: top;\n",
       "    }\n",
       "\n",
       "    .dataframe thead th {\n",
       "        text-align: right;\n",
       "    }\n",
       "</style>\n",
       "<table border=\"1\" class=\"dataframe\">\n",
       "  <thead>\n",
       "    <tr style=\"text-align: right;\">\n",
       "      <th></th>\n",
       "      <th>Age</th>\n",
       "      <th>Vintage</th>\n",
       "      <th>Avg_Account_Balance</th>\n",
       "      <th>Is_Lead</th>\n",
       "    </tr>\n",
       "  </thead>\n",
       "  <tbody>\n",
       "    <tr>\n",
       "      <th>count</th>\n",
       "      <td>245725.000000</td>\n",
       "      <td>245725.000000</td>\n",
       "      <td>2.457250e+05</td>\n",
       "      <td>245725.000000</td>\n",
       "    </tr>\n",
       "    <tr>\n",
       "      <th>mean</th>\n",
       "      <td>43.856307</td>\n",
       "      <td>46.959141</td>\n",
       "      <td>1.128403e+06</td>\n",
       "      <td>0.237208</td>\n",
       "    </tr>\n",
       "    <tr>\n",
       "      <th>std</th>\n",
       "      <td>14.828672</td>\n",
       "      <td>32.353136</td>\n",
       "      <td>8.529364e+05</td>\n",
       "      <td>0.425372</td>\n",
       "    </tr>\n",
       "    <tr>\n",
       "      <th>min</th>\n",
       "      <td>23.000000</td>\n",
       "      <td>7.000000</td>\n",
       "      <td>2.079000e+04</td>\n",
       "      <td>0.000000</td>\n",
       "    </tr>\n",
       "    <tr>\n",
       "      <th>25%</th>\n",
       "      <td>30.000000</td>\n",
       "      <td>20.000000</td>\n",
       "      <td>6.043100e+05</td>\n",
       "      <td>0.000000</td>\n",
       "    </tr>\n",
       "    <tr>\n",
       "      <th>50%</th>\n",
       "      <td>43.000000</td>\n",
       "      <td>32.000000</td>\n",
       "      <td>8.946010e+05</td>\n",
       "      <td>0.000000</td>\n",
       "    </tr>\n",
       "    <tr>\n",
       "      <th>75%</th>\n",
       "      <td>54.000000</td>\n",
       "      <td>73.000000</td>\n",
       "      <td>1.366666e+06</td>\n",
       "      <td>0.000000</td>\n",
       "    </tr>\n",
       "    <tr>\n",
       "      <th>max</th>\n",
       "      <td>85.000000</td>\n",
       "      <td>135.000000</td>\n",
       "      <td>1.035201e+07</td>\n",
       "      <td>1.000000</td>\n",
       "    </tr>\n",
       "  </tbody>\n",
       "</table>\n",
       "</div>"
      ],
      "text/plain": [
       "                 Age        Vintage  Avg_Account_Balance        Is_Lead\n",
       "count  245725.000000  245725.000000         2.457250e+05  245725.000000\n",
       "mean       43.856307      46.959141         1.128403e+06       0.237208\n",
       "std        14.828672      32.353136         8.529364e+05       0.425372\n",
       "min        23.000000       7.000000         2.079000e+04       0.000000\n",
       "25%        30.000000      20.000000         6.043100e+05       0.000000\n",
       "50%        43.000000      32.000000         8.946010e+05       0.000000\n",
       "75%        54.000000      73.000000         1.366666e+06       0.000000\n",
       "max        85.000000     135.000000         1.035201e+07       1.000000"
      ]
     },
     "execution_count": 10,
     "metadata": {},
     "output_type": "execute_result"
    }
   ],
   "source": [
    "#snapshot at numerical variables\n",
    "train.describe()"
   ]
  },
  {
   "cell_type": "code",
   "execution_count": 11,
   "id": "eabed40f",
   "metadata": {
    "execution": {
     "iopub.execute_input": "2021-11-30T07:57:54.189397Z",
     "iopub.status.busy": "2021-11-30T07:57:54.188660Z",
     "iopub.status.idle": "2021-11-30T07:57:54.193854Z",
     "shell.execute_reply": "2021-11-30T07:57:54.194495Z",
     "shell.execute_reply.started": "2021-11-30T07:49:33.283615Z"
    },
    "papermill": {
     "duration": 0.086258,
     "end_time": "2021-11-30T07:57:54.194693",
     "exception": false,
     "start_time": "2021-11-30T07:57:54.108435",
     "status": "completed"
    },
    "tags": []
   },
   "outputs": [],
   "source": [
    "#select numerical predictor variables\n",
    "num_cols = ['Age','Vintage','Avg_Account_Balance']\n",
    "num_data=train[num_cols]"
   ]
  },
  {
   "cell_type": "code",
   "execution_count": 12,
   "id": "5a192c6e",
   "metadata": {
    "execution": {
     "iopub.execute_input": "2021-11-30T07:57:54.355585Z",
     "iopub.status.busy": "2021-11-30T07:57:54.354887Z",
     "iopub.status.idle": "2021-11-30T07:57:55.094720Z",
     "shell.execute_reply": "2021-11-30T07:57:55.094144Z",
     "shell.execute_reply.started": "2021-11-30T07:49:33.293236Z"
    },
    "papermill": {
     "duration": 0.822564,
     "end_time": "2021-11-30T07:57:55.094877",
     "exception": false,
     "start_time": "2021-11-30T07:57:54.272313",
     "status": "completed"
    },
    "tags": []
   },
   "outputs": [
    {
     "data": {
      "image/png": "[encoded data removed]",
      "text/plain": [
       "<Figure size 864x864 with 4 Axes>"
      ]
     },
     "metadata": {
      "needs_background": "light"
     },
     "output_type": "display_data"
    }
   ],
   "source": [
    "# Plotting histograms plots for the variables\n",
    "num_data.hist(bins=30, color = 'cyan',figsize=(12,12))\n",
    "plt.show()"
   ]
  },
  {
   "cell_type": "code",
   "execution_count": 13,
   "id": "15b62470",
   "metadata": {
    "execution": {
     "iopub.execute_input": "2021-11-30T07:57:55.259281Z",
     "iopub.status.busy": "2021-11-30T07:57:55.258547Z",
     "iopub.status.idle": "2021-11-30T07:57:55.906027Z",
     "shell.execute_reply": "2021-11-30T07:57:55.905492Z",
     "shell.execute_reply.started": "2021-11-30T07:49:33.962568Z"
    },
    "papermill": {
     "duration": 0.732543,
     "end_time": "2021-11-30T07:57:55.906221",
     "exception": false,
     "start_time": "2021-11-30T07:57:55.173678",
     "status": "completed"
    },
    "tags": []
   },
   "outputs": [
    {
     "data": {
      "text/html": [
       "<div>\n",
       "<style scoped>\n",
       "    .dataframe tbody tr th:only-of-type {\n",
       "        vertical-align: middle;\n",
       "    }\n",
       "\n",
       "    .dataframe tbody tr th {\n",
       "        vertical-align: top;\n",
       "    }\n",
       "\n",
       "    .dataframe thead th {\n",
       "        text-align: right;\n",
       "    }\n",
       "</style>\n",
       "<table border=\"1\" class=\"dataframe\">\n",
       "  <thead>\n",
       "    <tr style=\"text-align: right;\">\n",
       "      <th></th>\n",
       "      <th>ID</th>\n",
       "      <th>Gender</th>\n",
       "      <th>Region_Code</th>\n",
       "      <th>Occupation</th>\n",
       "      <th>Channel_Code</th>\n",
       "      <th>Credit_Product</th>\n",
       "      <th>Is_Active</th>\n",
       "    </tr>\n",
       "  </thead>\n",
       "  <tbody>\n",
       "    <tr>\n",
       "      <th>count</th>\n",
       "      <td>245725</td>\n",
       "      <td>245725</td>\n",
       "      <td>245725</td>\n",
       "      <td>245725</td>\n",
       "      <td>245725</td>\n",
       "      <td>216400</td>\n",
       "      <td>245725</td>\n",
       "    </tr>\n",
       "    <tr>\n",
       "      <th>unique</th>\n",
       "      <td>245725</td>\n",
       "      <td>2</td>\n",
       "      <td>35</td>\n",
       "      <td>4</td>\n",
       "      <td>4</td>\n",
       "      <td>2</td>\n",
       "      <td>2</td>\n",
       "    </tr>\n",
       "    <tr>\n",
       "      <th>top</th>\n",
       "      <td>NNVBBKZB</td>\n",
       "      <td>Male</td>\n",
       "      <td>RG268</td>\n",
       "      <td>Self_Employed</td>\n",
       "      <td>X1</td>\n",
       "      <td>No</td>\n",
       "      <td>No</td>\n",
       "    </tr>\n",
       "    <tr>\n",
       "      <th>freq</th>\n",
       "      <td>1</td>\n",
       "      <td>134197</td>\n",
       "      <td>35934</td>\n",
       "      <td>100886</td>\n",
       "      <td>103718</td>\n",
       "      <td>144357</td>\n",
       "      <td>150290</td>\n",
       "    </tr>\n",
       "  </tbody>\n",
       "</table>\n",
       "</div>"
      ],
      "text/plain": [
       "              ID  Gender Region_Code     Occupation Channel_Code  \\\n",
       "count     245725  245725      245725         245725       245725   \n",
       "unique    245725       2          35              4            4   \n",
       "top     NNVBBKZB    Male       RG268  Self_Employed           X1   \n",
       "freq           1  134197       35934         100886       103718   \n",
       "\n",
       "       Credit_Product Is_Active  \n",
       "count          216400    245725  \n",
       "unique              2         2  \n",
       "top                No        No  \n",
       "freq           144357    150290  "
      ]
     },
     "execution_count": 13,
     "metadata": {},
     "output_type": "execute_result"
    }
   ],
   "source": [
    "#snapshot at the categorical columns\n",
    "train.describe(include='O')"
   ]
  },
  {
   "cell_type": "markdown",
   "id": "159817d0",
   "metadata": {
    "papermill": {
     "duration": 0.085218,
     "end_time": "2021-11-30T07:57:56.072561",
     "exception": false,
     "start_time": "2021-11-30T07:57:55.987343",
     "status": "completed"
    },
    "tags": []
   },
   "source": [
    "We can see that there are no repeated IDs in the ID variable,the  gender with the highest frequency is male,and that the highest number of it's clients are self employed among other factors that can be noted."
   ]
  },
  {
   "cell_type": "code",
   "execution_count": 14,
   "id": "05ac6e0b",
   "metadata": {
    "execution": {
     "iopub.execute_input": "2021-11-30T07:57:56.238421Z",
     "iopub.status.busy": "2021-11-30T07:57:56.237616Z",
     "iopub.status.idle": "2021-11-30T07:57:56.240578Z",
     "shell.execute_reply": "2021-11-30T07:57:56.241190Z",
     "shell.execute_reply.started": "2021-11-30T07:49:34.357388Z"
    },
    "papermill": {
     "duration": 0.08981,
     "end_time": "2021-11-30T07:57:56.241409",
     "exception": false,
     "start_time": "2021-11-30T07:57:56.151599",
     "status": "completed"
    },
    "tags": []
   },
   "outputs": [
    {
     "data": {
      "text/plain": [
       "0    187437\n",
       "1     58288\n",
       "Name: Is_Lead, dtype: int64"
      ]
     },
     "execution_count": 14,
     "metadata": {},
     "output_type": "execute_result"
    }
   ],
   "source": [
    "#A look the target variable\n",
    "train['Is_Lead'].value_counts()"
   ]
  },
  {
   "cell_type": "code",
   "execution_count": 15,
   "id": "fee19dce",
   "metadata": {
    "execution": {
     "iopub.execute_input": "2021-11-30T07:57:56.405748Z",
     "iopub.status.busy": "2021-11-30T07:57:56.405041Z",
     "iopub.status.idle": "2021-11-30T07:57:56.572149Z",
     "shell.execute_reply": "2021-11-30T07:57:56.571531Z",
     "shell.execute_reply.started": "2021-11-30T07:49:34.367652Z"
    },
    "papermill": {
     "duration": 0.251136,
     "end_time": "2021-11-30T07:57:56.572312",
     "exception": false,
     "start_time": "2021-11-30T07:57:56.321176",
     "status": "completed"
    },
    "tags": []
   },
   "outputs": [
    {
     "data": {
      "image/png": "[encoded data removed]",
      "text/plain": [
       "<Figure size 504x504 with 1 Axes>"
      ]
     },
     "metadata": {},
     "output_type": "display_data"
    }
   ],
   "source": [
    "plt.suptitle('Pie chart showing distribution of clients by percentage in the Is_lead Target variable', fontsize=20)\n",
    "train['Is_Lead'].value_counts().plot(kind='pie',autopct=\"%.1f%%\",shadow=True,startangle=90,figsize=(7,7), fontsize=12,ylabel='')\n",
    "plt.show()"
   ]
  },
  {
   "cell_type": "markdown",
   "id": "d3e8c91e",
   "metadata": {
    "papermill": {
     "duration": 0.080544,
     "end_time": "2021-11-30T07:57:56.734514",
     "exception": false,
     "start_time": "2021-11-30T07:57:56.653970",
     "status": "completed"
    },
    "tags": []
   },
   "source": [
    "We can see that there is a class imbalance between the Is_lead and No_lead labels. Those are who are no leads are more than twice as many as those who are have been labeled as Yes leads. This class imbalance will be highly taken into consideration when modelling."
   ]
  },
  {
   "cell_type": "code",
   "execution_count": 16,
   "id": "99156b8f",
   "metadata": {
    "execution": {
     "iopub.execute_input": "2021-11-30T07:57:56.900882Z",
     "iopub.status.busy": "2021-11-30T07:57:56.900197Z",
     "iopub.status.idle": "2021-11-30T07:57:56.902075Z",
     "shell.execute_reply": "2021-11-30T07:57:56.902669Z",
     "shell.execute_reply.started": "2021-11-30T07:49:34.521584Z"
    },
    "papermill": {
     "duration": 0.087873,
     "end_time": "2021-11-30T07:57:56.902875",
     "exception": false,
     "start_time": "2021-11-30T07:57:56.815002",
     "status": "completed"
    },
    "tags": []
   },
   "outputs": [],
   "source": [
    "train_labels = train['Is_Lead']"
   ]
  },
  {
   "cell_type": "markdown",
   "id": "678caba4",
   "metadata": {
    "papermill": {
     "duration": 0.079077,
     "end_time": "2021-11-30T07:57:57.063288",
     "exception": false,
     "start_time": "2021-11-30T07:57:56.984211",
     "status": "completed"
    },
    "tags": []
   },
   "source": [
    "# **3. EXPLANATORY DATA ANALYSIS**"
   ]
  },
  {
   "cell_type": "code",
   "execution_count": 17,
   "id": "ea99330e",
   "metadata": {
    "execution": {
     "iopub.execute_input": "2021-11-30T07:57:57.224891Z",
     "iopub.status.busy": "2021-11-30T07:57:57.224228Z",
     "iopub.status.idle": "2021-11-30T07:57:58.956668Z",
     "shell.execute_reply": "2021-11-30T07:57:58.955997Z",
     "shell.execute_reply.started": "2021-11-30T07:49:34.527299Z"
    },
    "papermill": {
     "duration": 1.814533,
     "end_time": "2021-11-30T07:57:58.956837",
     "exception": false,
     "start_time": "2021-11-30T07:57:57.142304",
     "status": "completed"
    },
    "tags": []
   },
   "outputs": [
    {
     "data": {
      "image/png": "[encoded data removed]",
      "text/plain": [
       "<Figure size 576x576 with 1 Axes>"
      ]
     },
     "metadata": {
      "needs_background": "light"
     },
     "output_type": "display_data"
    }
   ],
   "source": [
    "#Plot of probabbilty density function Age vs Is_lead for bank customers\n",
    "fig, ax = plt.subplots(figsize=(8,8))\n",
    "\n",
    "sns.kdeplot(train[train[\"Is_Lead\"]==0][\"Age\"],shade=True, color=\"red\", label=\"No Lead\", ax=ax)\n",
    "sns.kdeplot(train[train[\"Is_Lead\"]==1][\"Age\"],shade=True, color=\"green\", label=\"Yes Lead\",ax=ax)\n",
    "\n",
    "ax.set_xlabel(\"Age\")\n",
    "ax.set_ylabel(\"Density\")\n",
    "\n",
    "fig.suptitle(\"Age vs. Is_Lead for bank customers\")\n",
    "ax.legend();\n"
   ]
  },
  {
   "cell_type": "code",
   "execution_count": 18,
   "id": "5629cdbe",
   "metadata": {
    "execution": {
     "iopub.execute_input": "2021-11-30T07:57:59.161050Z",
     "iopub.status.busy": "2021-11-30T07:57:59.160393Z",
     "iopub.status.idle": "2021-11-30T07:58:00.779712Z",
     "shell.execute_reply": "2021-11-30T07:58:00.780440Z",
     "shell.execute_reply.started": "2021-11-30T07:49:36.220911Z"
    },
    "papermill": {
     "duration": 1.722422,
     "end_time": "2021-11-30T07:58:00.780648",
     "exception": false,
     "start_time": "2021-11-30T07:57:59.058226",
     "status": "completed"
    },
    "tags": []
   },
   "outputs": [
    {
     "data": {
      "image/png": "[encoded data removed]",
      "text/plain": [
       "<Figure size 576x576 with 1 Axes>"
      ]
     },
     "metadata": {
      "needs_background": "light"
     },
     "output_type": "display_data"
    }
   ],
   "source": [
    "#Plot of probabbilty density function Vintage vs Is_lead for bank customers\n",
    "fig, ax = plt.subplots(figsize=(8,8))\n",
    "\n",
    "sns.kdeplot(train[train[\"Is_Lead\"]==0][\"Vintage\"],shade=True, color=\"blue\", label=\"No Lead\", ax=ax)\n",
    "sns.kdeplot(train[train[\"Is_Lead\"]==1][\"Vintage\"],shade=True, color=\"red\", label=\"Yes Lead\",ax=ax)\n",
    "\n",
    "ax.set_xlabel(\"Vintage\")\n",
    "ax.set_ylabel(\"Density\")\n",
    "\n",
    "fig.suptitle(\"Vintage vs. Is_Lead for bank customers\")\n",
    "ax.legend();"
   ]
  },
  {
   "cell_type": "code",
   "execution_count": 19,
   "id": "e5c8f166",
   "metadata": {
    "execution": {
     "iopub.execute_input": "2021-11-30T07:58:00.954647Z",
     "iopub.status.busy": "2021-11-30T07:58:00.949217Z",
     "iopub.status.idle": "2021-11-30T07:58:02.455011Z",
     "shell.execute_reply": "2021-11-30T07:58:02.454474Z",
     "shell.execute_reply.started": "2021-11-30T07:49:37.809063Z"
    },
    "papermill": {
     "duration": 1.591963,
     "end_time": "2021-11-30T07:58:02.455199",
     "exception": false,
     "start_time": "2021-11-30T07:58:00.863236",
     "status": "completed"
    },
    "tags": []
   },
   "outputs": [
    {
     "data": {
      "image/png": "[encoded data removed]",
      "text/plain": [
       "<Figure size 576x576 with 1 Axes>"
      ]
     },
     "metadata": {
      "needs_background": "light"
     },
     "output_type": "display_data"
    }
   ],
   "source": [
    "#Plot of probabbilty density function Avg_Account_Balance vs Is_lead for bank customers\n",
    "fig, ax = plt.subplots(figsize=(8,8))\n",
    "\n",
    "sns.kdeplot(train[train[\"Is_Lead\"]==0][\"Avg_Account_Balance\"],shade=True, color=\"purple\", label=\"No Lead\", ax=ax)\n",
    "sns.kdeplot(train[train[\"Is_Lead\"]==1][\"Avg_Account_Balance\"],shade=True, color=\"green\", label=\"Yes Lead\",ax=ax)\n",
    "\n",
    "ax.set_xlabel(\"Avg_Account_Balance\")\n",
    "ax.set_ylabel(\"Density\")\n",
    "\n",
    "fig.suptitle(\"Avg_Account_Balance vs. Is_Lead for bank customers\")\n",
    "ax.legend();"
   ]
  },
  {
   "cell_type": "markdown",
   "id": "b5a02457",
   "metadata": {
    "papermill": {
     "duration": 0.0825,
     "end_time": "2021-11-30T07:58:02.622143",
     "exception": false,
     "start_time": "2021-11-30T07:58:02.539643",
     "status": "completed"
    },
    "tags": []
   },
   "source": [
    "From the graphs above, it can be observed that the most variation between the distributions are those between target variable and age, target variable and vintage while the variations in the distribution between the target variable and the ave_account_balance is minimum."
   ]
  },
  {
   "cell_type": "markdown",
   "id": "31585059",
   "metadata": {
    "papermill": {
     "duration": 0.082896,
     "end_time": "2021-11-30T07:58:02.787969",
     "exception": false,
     "start_time": "2021-11-30T07:58:02.705073",
     "status": "completed"
    },
    "tags": []
   },
   "source": [
    "Lets explore the relationship between categorical variables and the target variable."
   ]
  },
  {
   "cell_type": "code",
   "execution_count": 20,
   "id": "2c14de28",
   "metadata": {
    "execution": {
     "iopub.execute_input": "2021-11-30T07:58:02.964057Z",
     "iopub.status.busy": "2021-11-30T07:58:02.962668Z",
     "iopub.status.idle": "2021-11-30T07:58:02.978033Z",
     "shell.execute_reply": "2021-11-30T07:58:02.977417Z",
     "shell.execute_reply.started": "2021-11-30T07:49:39.281144Z"
    },
    "papermill": {
     "duration": 0.107375,
     "end_time": "2021-11-30T07:58:02.978218",
     "exception": false,
     "start_time": "2021-11-30T07:58:02.870843",
     "status": "completed"
    },
    "tags": []
   },
   "outputs": [
    {
     "name": "stdout",
     "output_type": "stream",
     "text": [
      "['ID', 'Gender', 'Region_Code', 'Occupation', 'Channel_Code', 'Credit_Product', 'Is_Active']\n"
     ]
    }
   ],
   "source": [
    "cat_data = train.select_dtypes(exclude=[np.number])\n",
    "print(list(cat_data.columns))"
   ]
  },
  {
   "cell_type": "code",
   "execution_count": 21,
   "id": "4a9a1ab1",
   "metadata": {
    "execution": {
     "iopub.execute_input": "2021-11-30T07:58:03.153063Z",
     "iopub.status.busy": "2021-11-30T07:58:03.152297Z",
     "iopub.status.idle": "2021-11-30T07:58:03.221735Z",
     "shell.execute_reply": "2021-11-30T07:58:03.221035Z",
     "shell.execute_reply.started": "2021-11-30T07:49:39.302302Z"
    },
    "papermill": {
     "duration": 0.157872,
     "end_time": "2021-11-30T07:58:03.221921",
     "exception": false,
     "start_time": "2021-11-30T07:58:03.064049",
     "status": "completed"
    },
    "tags": []
   },
   "outputs": [
    {
     "data": {
      "text/plain": [
       "Gender  Is_Lead\n",
       "Female  0          88823\n",
       "        1          22705\n",
       "Male    0          98614\n",
       "        1          35583\n",
       "Name: ID, dtype: int64"
      ]
     },
     "execution_count": 21,
     "metadata": {},
     "output_type": "execute_result"
    }
   ],
   "source": [
    "train.groupby(['Gender','Is_Lead']).ID.count()"
   ]
  },
  {
   "cell_type": "code",
   "execution_count": 22,
   "id": "d7767593",
   "metadata": {
    "execution": {
     "iopub.execute_input": "2021-11-30T07:58:03.417549Z",
     "iopub.status.busy": "2021-11-30T07:58:03.416428Z",
     "iopub.status.idle": "2021-11-30T07:58:03.841008Z",
     "shell.execute_reply": "2021-11-30T07:58:03.841524Z",
     "shell.execute_reply.started": "2021-11-30T07:49:39.350627Z"
    },
    "papermill": {
     "duration": 0.534082,
     "end_time": "2021-11-30T07:58:03.841726",
     "exception": false,
     "start_time": "2021-11-30T07:58:03.307644",
     "status": "completed"
    },
    "tags": []
   },
   "outputs": [
    {
     "data": {
      "image/png": "[encoded data removed]",
      "text/plain": [
       "<Figure size 576x576 with 1 Axes>"
      ]
     },
     "metadata": {
      "needs_background": "light"
     },
     "output_type": "display_data"
    }
   ],
   "source": [
    "fig, ax = plt.subplots(figsize=(8,8))\n",
    "sns.countplot(x=\"Is_Lead\", hue=\"Gender\", data=train,ax=ax)\n",
    "ax.legend(title=\"gender\")\n",
    "ax.set_xticklabels([\"Unlikely Lead\", \"Likely Lead\"])\n",
    "ax.set_xlabel(\"Is_Lead\")\n",
    "fig.suptitle(\"Gender vs. Is_Lead Variable categories\");"
   ]
  },
  {
   "cell_type": "code",
   "execution_count": 23,
   "id": "ffa801ce",
   "metadata": {
    "execution": {
     "iopub.execute_input": "2021-11-30T07:58:04.017844Z",
     "iopub.status.busy": "2021-11-30T07:58:04.016865Z",
     "iopub.status.idle": "2021-11-30T07:58:04.041804Z",
     "shell.execute_reply": "2021-11-30T07:58:04.042334Z",
     "shell.execute_reply.started": "2021-11-30T07:49:39.687997Z"
    },
    "papermill": {
     "duration": 0.114865,
     "end_time": "2021-11-30T07:58:04.042544",
     "exception": false,
     "start_time": "2021-11-30T07:58:03.927679",
     "status": "completed"
    },
    "tags": []
   },
   "outputs": [
    {
     "data": {
      "text/plain": [
       "35"
      ]
     },
     "execution_count": 23,
     "metadata": {},
     "output_type": "execute_result"
    }
   ],
   "source": [
    "#Has many unique values\n",
    "train['Region_Code'].nunique()"
   ]
  },
  {
   "cell_type": "code",
   "execution_count": 24,
   "id": "0a0e0d7e",
   "metadata": {
    "execution": {
     "iopub.execute_input": "2021-11-30T07:58:04.222750Z",
     "iopub.status.busy": "2021-11-30T07:58:04.221943Z",
     "iopub.status.idle": "2021-11-30T07:58:04.287313Z",
     "shell.execute_reply": "2021-11-30T07:58:04.287960Z",
     "shell.execute_reply.started": "2021-11-30T07:49:39.710206Z"
    },
    "papermill": {
     "duration": 0.158397,
     "end_time": "2021-11-30T07:58:04.288189",
     "exception": false,
     "start_time": "2021-11-30T07:58:04.129792",
     "status": "completed"
    },
    "tags": []
   },
   "outputs": [
    {
     "data": {
      "text/plain": [
       "Region_Code  Is_Lead\n",
       "RG250        0           2103\n",
       "             1            393\n",
       "RG251        0           4569\n",
       "             1           1381\n",
       "RG252        0           3694\n",
       "                        ...  \n",
       "RG282        1           1120\n",
       "RG283        0          20531\n",
       "             1           8885\n",
       "RG284        0          13504\n",
       "             1           5816\n",
       "Name: ID, Length: 70, dtype: int64"
      ]
     },
     "execution_count": 24,
     "metadata": {},
     "output_type": "execute_result"
    }
   ],
   "source": [
    "train.groupby(['Region_Code','Is_Lead']).ID.count()"
   ]
  },
  {
   "cell_type": "code",
   "execution_count": 25,
   "id": "e3dfa470",
   "metadata": {
    "execution": {
     "iopub.execute_input": "2021-11-30T07:58:04.466464Z",
     "iopub.status.busy": "2021-11-30T07:58:04.465685Z",
     "iopub.status.idle": "2021-11-30T07:58:04.531660Z",
     "shell.execute_reply": "2021-11-30T07:58:04.532166Z",
     "shell.execute_reply.started": "2021-11-30T07:49:39.758943Z"
    },
    "papermill": {
     "duration": 0.156052,
     "end_time": "2021-11-30T07:58:04.532372",
     "exception": false,
     "start_time": "2021-11-30T07:58:04.376320",
     "status": "completed"
    },
    "tags": []
   },
   "outputs": [
    {
     "data": {
      "text/plain": [
       "Occupation     Is_Lead\n",
       "Entrepreneur   0            905\n",
       "               1           1762\n",
       "Other          0          52984\n",
       "               1          17189\n",
       "Salaried       0          60503\n",
       "               1          11496\n",
       "Self_Employed  0          73045\n",
       "               1          27841\n",
       "Name: ID, dtype: int64"
      ]
     },
     "execution_count": 25,
     "metadata": {},
     "output_type": "execute_result"
    }
   ],
   "source": [
    "train.groupby(['Occupation','Is_Lead']).ID.count()"
   ]
  },
  {
   "cell_type": "code",
   "execution_count": 26,
   "id": "036f331e",
   "metadata": {
    "execution": {
     "iopub.execute_input": "2021-11-30T07:58:04.715098Z",
     "iopub.status.busy": "2021-11-30T07:58:04.714387Z",
     "iopub.status.idle": "2021-11-30T07:58:05.257720Z",
     "shell.execute_reply": "2021-11-30T07:58:05.256998Z",
     "shell.execute_reply.started": "2021-11-30T07:49:39.806951Z"
    },
    "papermill": {
     "duration": 0.639019,
     "end_time": "2021-11-30T07:58:05.257879",
     "exception": false,
     "start_time": "2021-11-30T07:58:04.618860",
     "status": "completed"
    },
    "tags": []
   },
   "outputs": [
    {
     "data": {
      "image/png": "[encoded data removed]",
      "text/plain": [
       "<Figure size 720x432 with 1 Axes>"
      ]
     },
     "metadata": {
      "needs_background": "light"
     },
     "output_type": "display_data"
    }
   ],
   "source": [
    "fig, ax = plt.subplots(figsize=(10,6))\n",
    "sns.countplot(x=\"Is_Lead\", hue=\"Occupation\", data=train,ax=ax)\n",
    "ax.legend(title=\"Occupation\")\n",
    "ax.set_xticklabels([\"Unlikely Lead\", \"Likely Lead\"])\n",
    "ax.set_xlabel(\"Is_Lead\")\n",
    "fig.suptitle(\"Occupation vs. Is_Lead Variable categories\");"
   ]
  },
  {
   "cell_type": "markdown",
   "id": "d8804132",
   "metadata": {
    "papermill": {
     "duration": 0.08707,
     "end_time": "2021-11-30T07:58:05.432804",
     "exception": false,
     "start_time": "2021-11-30T07:58:05.345734",
     "status": "completed"
    },
    "tags": []
   },
   "source": [
    " "
   ]
  },
  {
   "cell_type": "code",
   "execution_count": 27,
   "id": "61835af5",
   "metadata": {
    "execution": {
     "iopub.execute_input": "2021-11-30T07:58:05.612187Z",
     "iopub.status.busy": "2021-11-30T07:58:05.611395Z",
     "iopub.status.idle": "2021-11-30T07:58:05.673364Z",
     "shell.execute_reply": "2021-11-30T07:58:05.673926Z",
     "shell.execute_reply.started": "2021-11-30T07:49:40.216850Z"
    },
    "papermill": {
     "duration": 0.153611,
     "end_time": "2021-11-30T07:58:05.674149",
     "exception": false,
     "start_time": "2021-11-30T07:58:05.520538",
     "status": "completed"
    },
    "tags": []
   },
   "outputs": [
    {
     "data": {
      "text/plain": [
       "Channel_Code  Is_Lead\n",
       "X1            0          94236\n",
       "              1           9482\n",
       "X2            0          45519\n",
       "              1          22207\n",
       "X3            0          43493\n",
       "              1          25219\n",
       "X4            0           4189\n",
       "              1           1380\n",
       "Name: ID, dtype: int64"
      ]
     },
     "execution_count": 27,
     "metadata": {},
     "output_type": "execute_result"
    }
   ],
   "source": [
    "train.groupby(['Channel_Code','Is_Lead']).ID.count()"
   ]
  },
  {
   "cell_type": "code",
   "execution_count": 28,
   "id": "e70ebd05",
   "metadata": {
    "execution": {
     "iopub.execute_input": "2021-11-30T07:58:05.854287Z",
     "iopub.status.busy": "2021-11-30T07:58:05.853562Z",
     "iopub.status.idle": "2021-11-30T07:58:06.405773Z",
     "shell.execute_reply": "2021-11-30T07:58:06.406328Z",
     "shell.execute_reply.started": "2021-11-30T07:49:40.263444Z"
    },
    "papermill": {
     "duration": 0.64446,
     "end_time": "2021-11-30T07:58:06.406541",
     "exception": false,
     "start_time": "2021-11-30T07:58:05.762081",
     "status": "completed"
    },
    "tags": []
   },
   "outputs": [
    {
     "data": {
      "image/png": "[encoded data removed]",
      "text/plain": [
       "<Figure size 720x432 with 1 Axes>"
      ]
     },
     "metadata": {
      "needs_background": "light"
     },
     "output_type": "display_data"
    }
   ],
   "source": [
    "fig, ax = plt.subplots(figsize=(10,6))\n",
    "sns.countplot(x=\"Is_Lead\", hue=\"Channel_Code\", data=train,ax=ax)\n",
    "ax.legend(title=\"Channel_Code\")\n",
    "ax.set_xticklabels([\"Unlikely Lead\", \"Likely Lead\"])\n",
    "ax.set_xlabel(\"Is_Lead\")\n",
    "fig.suptitle(\"Channel_Code vs. Is_Lead Variable categories\");"
   ]
  },
  {
   "cell_type": "code",
   "execution_count": 29,
   "id": "c42149aa",
   "metadata": {
    "execution": {
     "iopub.execute_input": "2021-11-30T07:58:06.601598Z",
     "iopub.status.busy": "2021-11-30T07:58:06.600909Z",
     "iopub.status.idle": "2021-11-30T07:58:06.671390Z",
     "shell.execute_reply": "2021-11-30T07:58:06.670632Z",
     "shell.execute_reply.started": "2021-11-30T07:49:40.646220Z"
    },
    "papermill": {
     "duration": 0.174209,
     "end_time": "2021-11-30T07:58:06.671563",
     "exception": false,
     "start_time": "2021-11-30T07:58:06.497354",
     "status": "completed"
    },
    "tags": []
   },
   "outputs": [
    {
     "data": {
      "text/plain": [
       "Credit_Product  Is_Lead\n",
       "No              0          133734\n",
       "                1           10623\n",
       "Yes             0           49353\n",
       "                1           22690\n",
       "Name: ID, dtype: int64"
      ]
     },
     "execution_count": 29,
     "metadata": {},
     "output_type": "execute_result"
    }
   ],
   "source": [
    "train.groupby(['Credit_Product','Is_Lead']).ID.count()"
   ]
  },
  {
   "cell_type": "code",
   "execution_count": 30,
   "id": "4a5eea3f",
   "metadata": {
    "execution": {
     "iopub.execute_input": "2021-11-30T07:58:06.876968Z",
     "iopub.status.busy": "2021-11-30T07:58:06.874605Z",
     "iopub.status.idle": "2021-11-30T07:58:07.307261Z",
     "shell.execute_reply": "2021-11-30T07:58:07.306672Z",
     "shell.execute_reply.started": "2021-11-30T07:49:40.692719Z"
    },
    "papermill": {
     "duration": 0.545737,
     "end_time": "2021-11-30T07:58:07.307425",
     "exception": false,
     "start_time": "2021-11-30T07:58:06.761688",
     "status": "completed"
    },
    "tags": []
   },
   "outputs": [
    {
     "data": {
      "image/png": "[encoded data removed]",
      "text/plain": [
       "<Figure size 720x432 with 1 Axes>"
      ]
     },
     "metadata": {
      "needs_background": "light"
     },
     "output_type": "display_data"
    }
   ],
   "source": [
    "fig, ax = plt.subplots(figsize=(10,6))\n",
    "sns.countplot(x=\"Is_Lead\", hue=\"Credit_Product\", data=train,ax=ax)\n",
    "ax.legend(title=\"Credit_Product\")\n",
    "ax.set_xticklabels([\"Unlikely Lead\", \"Likely Lead\"])\n",
    "ax.set_xlabel(\"Is_Lead\")\n",
    "fig.suptitle(\"Credit_Product vs. Is_Lead Variable \");"
   ]
  },
  {
   "cell_type": "code",
   "execution_count": 31,
   "id": "0b6b4a25",
   "metadata": {
    "execution": {
     "iopub.execute_input": "2021-11-30T07:58:07.500213Z",
     "iopub.status.busy": "2021-11-30T07:58:07.499532Z",
     "iopub.status.idle": "2021-11-30T07:58:07.559773Z",
     "shell.execute_reply": "2021-11-30T07:58:07.560266Z",
     "shell.execute_reply.started": "2021-11-30T07:49:41.039618Z"
    },
    "papermill": {
     "duration": 0.162157,
     "end_time": "2021-11-30T07:58:07.560467",
     "exception": false,
     "start_time": "2021-11-30T07:58:07.398310",
     "status": "completed"
    },
    "tags": []
   },
   "outputs": [
    {
     "data": {
      "text/plain": [
       "Is_Active  Is_Lead\n",
       "No         0          119007\n",
       "           1           31283\n",
       "Yes        0           68430\n",
       "           1           27005\n",
       "Name: ID, dtype: int64"
      ]
     },
     "execution_count": 31,
     "metadata": {},
     "output_type": "execute_result"
    }
   ],
   "source": [
    "train.groupby(['Is_Active','Is_Lead']).ID.count()"
   ]
  },
  {
   "cell_type": "code",
   "execution_count": 32,
   "id": "a5ff331b",
   "metadata": {
    "execution": {
     "iopub.execute_input": "2021-11-30T07:58:07.744093Z",
     "iopub.status.busy": "2021-11-30T07:58:07.743451Z",
     "iopub.status.idle": "2021-11-30T07:58:08.190767Z",
     "shell.execute_reply": "2021-11-30T07:58:08.190095Z",
     "shell.execute_reply.started": "2021-11-30T07:49:41.085489Z"
    },
    "papermill": {
     "duration": 0.541088,
     "end_time": "2021-11-30T07:58:08.190907",
     "exception": false,
     "start_time": "2021-11-30T07:58:07.649819",
     "status": "completed"
    },
    "tags": []
   },
   "outputs": [
    {
     "data": {
      "image/png": "[encoded data removed]",
      "text/plain": [
       "<Figure size 720x432 with 1 Axes>"
      ]
     },
     "metadata": {
      "needs_background": "light"
     },
     "output_type": "display_data"
    }
   ],
   "source": [
    "fig, ax = plt.subplots(figsize=(10,6))\n",
    "sns.countplot(x=\"Is_Lead\", hue=\"Is_Active\", data=train,ax=ax)\n",
    "ax.legend(title=\"Is_Active\")\n",
    "ax.set_xticklabels([\"Unlikely Lead\", \"Likely Lead\"])\n",
    "ax.set_xlabel(\"Is_Lead\")\n",
    "fig.suptitle(\"Is_Active vs. Is_Lead target variable \");"
   ]
  },
  {
   "cell_type": "markdown",
   "id": "8eaa36f6",
   "metadata": {
    "papermill": {
     "duration": 0.090141,
     "end_time": "2021-11-30T07:58:08.371500",
     "exception": false,
     "start_time": "2021-11-30T07:58:08.281359",
     "status": "completed"
    },
    "tags": []
   },
   "source": [
    "Considering the visualizations above, it can be concluded that there are some visible relationships between the target variable and the categorical variables."
   ]
  },
  {
   "cell_type": "code",
   "execution_count": 33,
   "id": "fa2b06ca",
   "metadata": {
    "execution": {
     "iopub.execute_input": "2021-11-30T07:58:08.565750Z",
     "iopub.status.busy": "2021-11-30T07:58:08.564302Z",
     "iopub.status.idle": "2021-11-30T07:58:08.880983Z",
     "shell.execute_reply": "2021-11-30T07:58:08.881511Z",
     "shell.execute_reply.started": "2021-11-30T07:49:41.415429Z"
    },
    "papermill": {
     "duration": 0.420359,
     "end_time": "2021-11-30T07:58:08.881722",
     "exception": false,
     "start_time": "2021-11-30T07:58:08.461363",
     "status": "completed"
    },
    "tags": []
   },
   "outputs": [
    {
     "data": {
      "image/png": "[encoded data removed]",
      "text/plain": [
       "<Figure size 576x288 with 2 Axes>"
      ]
     },
     "metadata": {
      "needs_background": "light"
     },
     "output_type": "display_data"
    }
   ],
   "source": [
    "#select the numerical columns\n",
    "num_data=train.loc[:,train.dtypes!=np.object]\n",
    "# heat map of correlation of features\n",
    "correlation_matrix = num_data.corr()\n",
    "fig = plt.figure(figsize=(8,4))\n",
    "sns.heatmap(correlation_matrix,vmax=1,annot=True) \n",
    "plt.show()"
   ]
  },
  {
   "cell_type": "markdown",
   "id": "3cb4f2c8",
   "metadata": {
    "papermill": {
     "duration": 0.094589,
     "end_time": "2021-11-30T07:58:09.069980",
     "exception": false,
     "start_time": "2021-11-30T07:58:08.975391",
     "status": "completed"
    },
    "tags": []
   },
   "source": [
    "Since avg_Account_Balance appears to have a very low correlation to the target compared to the age and vintage, we shall not consider it in the feature engineering phase.we shall consider Age and Vintage in feature engineering"
   ]
  },
  {
   "cell_type": "markdown",
   "id": "c5372754",
   "metadata": {
    "papermill": {
     "duration": 0.091842,
     "end_time": "2021-11-30T07:58:09.253324",
     "exception": false,
     "start_time": "2021-11-30T07:58:09.161482",
     "status": "completed"
    },
    "tags": []
   },
   "source": [
    "# **3. FEATURE ENGINEERING AND SELECTION PHASE.**"
   ]
  },
  {
   "cell_type": "code",
   "execution_count": 34,
   "id": "64206289",
   "metadata": {
    "execution": {
     "iopub.execute_input": "2021-11-30T07:58:09.443293Z",
     "iopub.status.busy": "2021-11-30T07:58:09.442282Z",
     "iopub.status.idle": "2021-11-30T07:58:09.454591Z",
     "shell.execute_reply": "2021-11-30T07:58:09.455375Z",
     "shell.execute_reply.started": "2021-11-30T07:49:41.707969Z"
    },
    "papermill": {
     "duration": 0.109479,
     "end_time": "2021-11-30T07:58:09.455739",
     "exception": false,
     "start_time": "2021-11-30T07:58:09.346260",
     "status": "completed"
    },
    "tags": []
   },
   "outputs": [],
   "source": [
    "# Make a new dataframe for polynomial features\n",
    "poly_features = train[['Age', 'Vintage', 'Is_Lead']]\n",
    "poly_features_test = test[['Age', 'Vintage']]\n",
    "\n",
    "poly_target = poly_features['Is_Lead']\n",
    "\n",
    "poly_features = poly_features.drop(columns = ['Is_Lead'])\n",
    "\n",
    "                                  \n",
    "# Create the polynomial object with specified degree\n",
    "poly_transformer = PolynomialFeatures(degree = 3,include_bias=False)"
   ]
  },
  {
   "cell_type": "code",
   "execution_count": 35,
   "id": "6e12f9fb",
   "metadata": {
    "execution": {
     "iopub.execute_input": "2021-11-30T07:58:09.644471Z",
     "iopub.status.busy": "2021-11-30T07:58:09.643458Z",
     "iopub.status.idle": "2021-11-30T07:58:09.692480Z",
     "shell.execute_reply": "2021-11-30T07:58:09.693012Z",
     "shell.execute_reply.started": "2021-11-30T07:49:41.718821Z"
    },
    "papermill": {
     "duration": 0.144406,
     "end_time": "2021-11-30T07:58:09.693252",
     "exception": false,
     "start_time": "2021-11-30T07:58:09.548846",
     "status": "completed"
    },
    "tags": []
   },
   "outputs": [
    {
     "name": "stdout",
     "output_type": "stream",
     "text": [
      "Polynomial Features shape:  (245725, 9)\n",
      "Polynomial Features shape:  (105312, 9)\n"
     ]
    }
   ],
   "source": [
    "# Train the polynomial features\n",
    "poly_features=poly_transformer.fit_transform(poly_features)\n",
    "\n",
    "# Transform the test features\n",
    "poly_features_test = poly_transformer.transform(poly_features_test)\n",
    "print('Polynomial Features shape: ', poly_features.shape)\n",
    "print('Polynomial Features shape: ', poly_features_test.shape)"
   ]
  },
  {
   "cell_type": "code",
   "execution_count": 36,
   "id": "d714afa0",
   "metadata": {
    "execution": {
     "iopub.execute_input": "2021-11-30T07:58:09.906886Z",
     "iopub.status.busy": "2021-11-30T07:58:09.904435Z",
     "iopub.status.idle": "2021-11-30T07:58:09.910820Z",
     "shell.execute_reply": "2021-11-30T07:58:09.911490Z",
     "shell.execute_reply.started": "2021-11-30T07:49:41.765189Z"
    },
    "papermill": {
     "duration": 0.122046,
     "end_time": "2021-11-30T07:58:09.911709",
     "exception": false,
     "start_time": "2021-11-30T07:58:09.789663",
     "status": "completed"
    },
    "tags": []
   },
   "outputs": [
    {
     "name": "stdout",
     "output_type": "stream",
     "text": [
      "['Age', 'Vintage', 'Age^2', 'Age Vintage', 'Vintage^2', 'Age^3', 'Age^2 Vintage', 'Age Vintage^2', 'Vintage^3']\n"
     ]
    }
   ],
   "source": [
    "#This creates a considerable number of new features. To get the names we have to use the polynomial features get_feature_names method.\n",
    "print(list(poly_transformer.get_feature_names(input_features = ['Age', 'Vintage'])[:9]))"
   ]
  },
  {
   "cell_type": "code",
   "execution_count": 37,
   "id": "d97bbc05",
   "metadata": {
    "execution": {
     "iopub.execute_input": "2021-11-30T07:58:10.195342Z",
     "iopub.status.busy": "2021-11-30T07:58:10.193951Z",
     "iopub.status.idle": "2021-11-30T07:58:11.285828Z",
     "shell.execute_reply": "2021-11-30T07:58:11.286351Z",
     "shell.execute_reply.started": "2021-11-30T07:49:41.772949Z"
    },
    "papermill": {
     "duration": 1.234547,
     "end_time": "2021-11-30T07:58:11.286546",
     "exception": false,
     "start_time": "2021-11-30T07:58:10.051999",
     "status": "completed"
    },
    "tags": []
   },
   "outputs": [
    {
     "data": {
      "image/png": "[encoded data removed]",
      "text/plain": [
       "<Figure size 720x432 with 2 Axes>"
      ]
     },
     "metadata": {
      "needs_background": "light"
     },
     "output_type": "display_data"
    }
   ],
   "source": [
    "# Create a dataframe of the features \n",
    "poly_features = pd.DataFrame(poly_features, \n",
    "                             columns = poly_transformer.get_feature_names(['Age', 'Vintage']))\n",
    "\n",
    "# Add in the target\n",
    "poly_features['Is_Lead'] = poly_target\n",
    "\n",
    "# Find the correlations with the target\n",
    "poly_corrs = poly_features.corr()\n",
    "fig = plt.figure(figsize=(10,6))\n",
    "sns.heatmap(poly_corrs,vmax=1,annot=True) \n",
    "plt.show()"
   ]
  },
  {
   "cell_type": "code",
   "execution_count": 38,
   "id": "12e7e222",
   "metadata": {
    "execution": {
     "iopub.execute_input": "2021-11-30T07:58:11.480684Z",
     "iopub.status.busy": "2021-11-30T07:58:11.479695Z",
     "iopub.status.idle": "2021-11-30T07:58:11.497666Z",
     "shell.execute_reply": "2021-11-30T07:58:11.496986Z",
     "shell.execute_reply.started": "2021-11-30T07:49:42.721510Z"
    },
    "papermill": {
     "duration": 0.116594,
     "end_time": "2021-11-30T07:58:11.497806",
     "exception": false,
     "start_time": "2021-11-30T07:58:11.381212",
     "status": "completed"
    },
    "tags": []
   },
   "outputs": [
    {
     "data": {
      "text/html": [
       "<div>\n",
       "<style scoped>\n",
       "    .dataframe tbody tr th:only-of-type {\n",
       "        vertical-align: middle;\n",
       "    }\n",
       "\n",
       "    .dataframe tbody tr th {\n",
       "        vertical-align: top;\n",
       "    }\n",
       "\n",
       "    .dataframe thead th {\n",
       "        text-align: right;\n",
       "    }\n",
       "</style>\n",
       "<table border=\"1\" class=\"dataframe\">\n",
       "  <thead>\n",
       "    <tr style=\"text-align: right;\">\n",
       "      <th></th>\n",
       "      <th>Age</th>\n",
       "      <th>Vintage</th>\n",
       "      <th>Age^2</th>\n",
       "      <th>Age Vintage</th>\n",
       "      <th>Vintage^2</th>\n",
       "      <th>Age^3</th>\n",
       "      <th>Age^2 Vintage</th>\n",
       "      <th>Age Vintage^2</th>\n",
       "      <th>Vintage^3</th>\n",
       "      <th>Is_Lead</th>\n",
       "    </tr>\n",
       "  </thead>\n",
       "  <tbody>\n",
       "    <tr>\n",
       "      <th>0</th>\n",
       "      <td>73.0</td>\n",
       "      <td>43.0</td>\n",
       "      <td>5329.0</td>\n",
       "      <td>3139.0</td>\n",
       "      <td>1849.0</td>\n",
       "      <td>389017.0</td>\n",
       "      <td>229147.0</td>\n",
       "      <td>134977.0</td>\n",
       "      <td>79507.0</td>\n",
       "      <td>0</td>\n",
       "    </tr>\n",
       "    <tr>\n",
       "      <th>1</th>\n",
       "      <td>30.0</td>\n",
       "      <td>32.0</td>\n",
       "      <td>900.0</td>\n",
       "      <td>960.0</td>\n",
       "      <td>1024.0</td>\n",
       "      <td>27000.0</td>\n",
       "      <td>28800.0</td>\n",
       "      <td>30720.0</td>\n",
       "      <td>32768.0</td>\n",
       "      <td>0</td>\n",
       "    </tr>\n",
       "    <tr>\n",
       "      <th>2</th>\n",
       "      <td>56.0</td>\n",
       "      <td>26.0</td>\n",
       "      <td>3136.0</td>\n",
       "      <td>1456.0</td>\n",
       "      <td>676.0</td>\n",
       "      <td>175616.0</td>\n",
       "      <td>81536.0</td>\n",
       "      <td>37856.0</td>\n",
       "      <td>17576.0</td>\n",
       "      <td>0</td>\n",
       "    </tr>\n",
       "    <tr>\n",
       "      <th>3</th>\n",
       "      <td>34.0</td>\n",
       "      <td>19.0</td>\n",
       "      <td>1156.0</td>\n",
       "      <td>646.0</td>\n",
       "      <td>361.0</td>\n",
       "      <td>39304.0</td>\n",
       "      <td>21964.0</td>\n",
       "      <td>12274.0</td>\n",
       "      <td>6859.0</td>\n",
       "      <td>0</td>\n",
       "    </tr>\n",
       "    <tr>\n",
       "      <th>4</th>\n",
       "      <td>30.0</td>\n",
       "      <td>33.0</td>\n",
       "      <td>900.0</td>\n",
       "      <td>990.0</td>\n",
       "      <td>1089.0</td>\n",
       "      <td>27000.0</td>\n",
       "      <td>29700.0</td>\n",
       "      <td>32670.0</td>\n",
       "      <td>35937.0</td>\n",
       "      <td>0</td>\n",
       "    </tr>\n",
       "  </tbody>\n",
       "</table>\n",
       "</div>"
      ],
      "text/plain": [
       "    Age  Vintage   Age^2  Age Vintage  Vintage^2     Age^3  Age^2 Vintage  \\\n",
       "0  73.0     43.0  5329.0       3139.0     1849.0  389017.0       229147.0   \n",
       "1  30.0     32.0   900.0        960.0     1024.0   27000.0        28800.0   \n",
       "2  56.0     26.0  3136.0       1456.0      676.0  175616.0        81536.0   \n",
       "3  34.0     19.0  1156.0        646.0      361.0   39304.0        21964.0   \n",
       "4  30.0     33.0   900.0        990.0     1089.0   27000.0        29700.0   \n",
       "\n",
       "   Age Vintage^2  Vintage^3  Is_Lead  \n",
       "0       134977.0    79507.0        0  \n",
       "1        30720.0    32768.0        0  \n",
       "2        37856.0    17576.0        0  \n",
       "3        12274.0     6859.0        0  \n",
       "4        32670.0    35937.0        0  "
      ]
     },
     "execution_count": 38,
     "metadata": {},
     "output_type": "execute_result"
    }
   ],
   "source": [
    "poly_features.head()"
   ]
  },
  {
   "cell_type": "code",
   "execution_count": 39,
   "id": "23c1ff24",
   "metadata": {
    "execution": {
     "iopub.execute_input": "2021-11-30T07:58:11.695795Z",
     "iopub.status.busy": "2021-11-30T07:58:11.695029Z",
     "iopub.status.idle": "2021-11-30T07:58:11.698846Z",
     "shell.execute_reply": "2021-11-30T07:58:11.699462Z",
     "shell.execute_reply.started": "2021-11-30T07:49:42.742749Z"
    },
    "papermill": {
     "duration": 0.104959,
     "end_time": "2021-11-30T07:58:11.699670",
     "exception": false,
     "start_time": "2021-11-30T07:58:11.594711",
     "status": "completed"
    },
    "tags": []
   },
   "outputs": [],
   "source": [
    "# Put test features into dataframe\n",
    "poly_features_test = pd.DataFrame(poly_features_test, \n",
    "                                  columns = poly_transformer.get_feature_names(['Age', 'Vintage']))"
   ]
  },
  {
   "cell_type": "code",
   "execution_count": 40,
   "id": "94960e59",
   "metadata": {
    "execution": {
     "iopub.execute_input": "2021-11-30T07:58:11.893949Z",
     "iopub.status.busy": "2021-11-30T07:58:11.893052Z",
     "iopub.status.idle": "2021-11-30T07:58:11.914156Z",
     "shell.execute_reply": "2021-11-30T07:58:11.914702Z",
     "shell.execute_reply.started": "2021-11-30T07:49:42.752309Z"
    },
    "papermill": {
     "duration": 0.119975,
     "end_time": "2021-11-30T07:58:11.914897",
     "exception": false,
     "start_time": "2021-11-30T07:58:11.794922",
     "status": "completed"
    },
    "tags": []
   },
   "outputs": [
    {
     "data": {
      "text/html": [
       "<div>\n",
       "<style scoped>\n",
       "    .dataframe tbody tr th:only-of-type {\n",
       "        vertical-align: middle;\n",
       "    }\n",
       "\n",
       "    .dataframe tbody tr th {\n",
       "        vertical-align: top;\n",
       "    }\n",
       "\n",
       "    .dataframe thead th {\n",
       "        text-align: right;\n",
       "    }\n",
       "</style>\n",
       "<table border=\"1\" class=\"dataframe\">\n",
       "  <thead>\n",
       "    <tr style=\"text-align: right;\">\n",
       "      <th></th>\n",
       "      <th>Age</th>\n",
       "      <th>Vintage</th>\n",
       "      <th>Age^2</th>\n",
       "      <th>Age Vintage</th>\n",
       "      <th>Vintage^2</th>\n",
       "      <th>Age^3</th>\n",
       "      <th>Age^2 Vintage</th>\n",
       "      <th>Age Vintage^2</th>\n",
       "      <th>Vintage^3</th>\n",
       "    </tr>\n",
       "  </thead>\n",
       "  <tbody>\n",
       "    <tr>\n",
       "      <th>0</th>\n",
       "      <td>29.0</td>\n",
       "      <td>25.0</td>\n",
       "      <td>841.0</td>\n",
       "      <td>725.0</td>\n",
       "      <td>625.0</td>\n",
       "      <td>24389.0</td>\n",
       "      <td>21025.0</td>\n",
       "      <td>18125.0</td>\n",
       "      <td>15625.0</td>\n",
       "    </tr>\n",
       "    <tr>\n",
       "      <th>1</th>\n",
       "      <td>43.0</td>\n",
       "      <td>49.0</td>\n",
       "      <td>1849.0</td>\n",
       "      <td>2107.0</td>\n",
       "      <td>2401.0</td>\n",
       "      <td>79507.0</td>\n",
       "      <td>90601.0</td>\n",
       "      <td>103243.0</td>\n",
       "      <td>117649.0</td>\n",
       "    </tr>\n",
       "    <tr>\n",
       "      <th>2</th>\n",
       "      <td>31.0</td>\n",
       "      <td>14.0</td>\n",
       "      <td>961.0</td>\n",
       "      <td>434.0</td>\n",
       "      <td>196.0</td>\n",
       "      <td>29791.0</td>\n",
       "      <td>13454.0</td>\n",
       "      <td>6076.0</td>\n",
       "      <td>2744.0</td>\n",
       "    </tr>\n",
       "    <tr>\n",
       "      <th>3</th>\n",
       "      <td>29.0</td>\n",
       "      <td>33.0</td>\n",
       "      <td>841.0</td>\n",
       "      <td>957.0</td>\n",
       "      <td>1089.0</td>\n",
       "      <td>24389.0</td>\n",
       "      <td>27753.0</td>\n",
       "      <td>31581.0</td>\n",
       "      <td>35937.0</td>\n",
       "    </tr>\n",
       "    <tr>\n",
       "      <th>4</th>\n",
       "      <td>29.0</td>\n",
       "      <td>19.0</td>\n",
       "      <td>841.0</td>\n",
       "      <td>551.0</td>\n",
       "      <td>361.0</td>\n",
       "      <td>24389.0</td>\n",
       "      <td>15979.0</td>\n",
       "      <td>10469.0</td>\n",
       "      <td>6859.0</td>\n",
       "    </tr>\n",
       "  </tbody>\n",
       "</table>\n",
       "</div>"
      ],
      "text/plain": [
       "    Age  Vintage   Age^2  Age Vintage  Vintage^2    Age^3  Age^2 Vintage  \\\n",
       "0  29.0     25.0   841.0        725.0      625.0  24389.0        21025.0   \n",
       "1  43.0     49.0  1849.0       2107.0     2401.0  79507.0        90601.0   \n",
       "2  31.0     14.0   961.0        434.0      196.0  29791.0        13454.0   \n",
       "3  29.0     33.0   841.0        957.0     1089.0  24389.0        27753.0   \n",
       "4  29.0     19.0   841.0        551.0      361.0  24389.0        15979.0   \n",
       "\n",
       "   Age Vintage^2  Vintage^3  \n",
       "0        18125.0    15625.0  \n",
       "1       103243.0   117649.0  \n",
       "2         6076.0     2744.0  \n",
       "3        31581.0    35937.0  \n",
       "4        10469.0     6859.0  "
      ]
     },
     "execution_count": 40,
     "metadata": {},
     "output_type": "execute_result"
    }
   ],
   "source": [
    "poly_features_test.head()"
   ]
  },
  {
   "cell_type": "code",
   "execution_count": 41,
   "id": "7892c51e",
   "metadata": {
    "execution": {
     "iopub.execute_input": "2021-11-30T07:58:12.113799Z",
     "iopub.status.busy": "2021-11-30T07:58:12.112948Z",
     "iopub.status.idle": "2021-11-30T07:58:12.530039Z",
     "shell.execute_reply": "2021-11-30T07:58:12.529444Z",
     "shell.execute_reply.started": "2021-11-30T07:49:42.779737Z"
    },
    "papermill": {
     "duration": 0.519187,
     "end_time": "2021-11-30T07:58:12.530270",
     "exception": false,
     "start_time": "2021-11-30T07:58:12.011083",
     "status": "completed"
    },
    "tags": []
   },
   "outputs": [],
   "source": [
    "# Merge polynomial features into training dataframe\n",
    "poly_features['ID'] = train['ID']\n",
    "train_poly = train.merge(poly_features, on = 'ID', how = 'left')\n",
    "\n",
    "# Merge polnomial features into testing dataframe\n",
    "poly_features_test['ID'] = test['ID']\n",
    "test_poly = test.merge(poly_features_test, on = 'ID', how = 'left')"
   ]
  },
  {
   "cell_type": "code",
   "execution_count": 42,
   "id": "b723b09d",
   "metadata": {
    "execution": {
     "iopub.execute_input": "2021-11-30T07:58:12.730064Z",
     "iopub.status.busy": "2021-11-30T07:58:12.729018Z",
     "iopub.status.idle": "2021-11-30T07:58:12.733636Z",
     "shell.execute_reply": "2021-11-30T07:58:12.733080Z",
     "shell.execute_reply.started": "2021-11-30T07:49:43.182853Z"
    },
    "papermill": {
     "duration": 0.107224,
     "end_time": "2021-11-30T07:58:12.733796",
     "exception": false,
     "start_time": "2021-11-30T07:58:12.626572",
     "status": "completed"
    },
    "tags": []
   },
   "outputs": [
    {
     "data": {
      "text/plain": [
       "((245725, 21), (105312, 19))"
      ]
     },
     "execution_count": 42,
     "metadata": {},
     "output_type": "execute_result"
    }
   ],
   "source": [
    "train_poly.shape, test_poly.shape"
   ]
  },
  {
   "cell_type": "code",
   "execution_count": 43,
   "id": "60d7fb28",
   "metadata": {
    "execution": {
     "iopub.execute_input": "2021-11-30T07:58:12.933478Z",
     "iopub.status.busy": "2021-11-30T07:58:12.932663Z",
     "iopub.status.idle": "2021-11-30T07:58:13.036061Z",
     "shell.execute_reply": "2021-11-30T07:58:13.035435Z",
     "shell.execute_reply.started": "2021-11-30T07:49:43.191646Z"
    },
    "papermill": {
     "duration": 0.203368,
     "end_time": "2021-11-30T07:58:13.036249",
     "exception": false,
     "start_time": "2021-11-30T07:58:12.832881",
     "status": "completed"
    },
    "tags": []
   },
   "outputs": [],
   "source": [
    "# Align the training and testing data, keeps only columns present in both dataframes\n",
    "# Align the dataframes\n",
    "train_poly, test_poly = train_poly.align(test_poly, join = 'inner', axis = 1)"
   ]
  },
  {
   "cell_type": "code",
   "execution_count": 44,
   "id": "66152657",
   "metadata": {
    "execution": {
     "iopub.execute_input": "2021-11-30T07:58:13.235621Z",
     "iopub.status.busy": "2021-11-30T07:58:13.234595Z",
     "iopub.status.idle": "2021-11-30T07:58:13.239201Z",
     "shell.execute_reply": "2021-11-30T07:58:13.238526Z",
     "shell.execute_reply.started": "2021-11-30T07:49:43.307911Z"
    },
    "papermill": {
     "duration": 0.105693,
     "end_time": "2021-11-30T07:58:13.239365",
     "exception": false,
     "start_time": "2021-11-30T07:58:13.133672",
     "status": "completed"
    },
    "tags": []
   },
   "outputs": [
    {
     "data": {
      "text/plain": [
       "((245725, 19), (105312, 19))"
      ]
     },
     "execution_count": 44,
     "metadata": {},
     "output_type": "execute_result"
    }
   ],
   "source": [
    "train_poly.shape, test_poly.shape"
   ]
  },
  {
   "cell_type": "code",
   "execution_count": 45,
   "id": "7580b67c",
   "metadata": {
    "execution": {
     "iopub.execute_input": "2021-11-30T07:58:13.437731Z",
     "iopub.status.busy": "2021-11-30T07:58:13.436761Z",
     "iopub.status.idle": "2021-11-30T07:58:13.439079Z",
     "shell.execute_reply": "2021-11-30T07:58:13.439688Z",
     "shell.execute_reply.started": "2021-11-30T07:49:43.315252Z"
    },
    "papermill": {
     "duration": 0.103819,
     "end_time": "2021-11-30T07:58:13.439890",
     "exception": false,
     "start_time": "2021-11-30T07:58:13.336071",
     "status": "completed"
    },
    "tags": []
   },
   "outputs": [],
   "source": [
    "#columns to drop before  modelling \n",
    "cols_to_drop= ['ID','Region_Code']"
   ]
  },
  {
   "cell_type": "code",
   "execution_count": 46,
   "id": "af50f673",
   "metadata": {
    "execution": {
     "iopub.execute_input": "2021-11-30T07:58:13.643360Z",
     "iopub.status.busy": "2021-11-30T07:58:13.641984Z",
     "iopub.status.idle": "2021-11-30T07:58:13.672771Z",
     "shell.execute_reply": "2021-11-30T07:58:13.672160Z",
     "shell.execute_reply.started": "2021-11-30T07:49:43.327070Z"
    },
    "papermill": {
     "duration": 0.135357,
     "end_time": "2021-11-30T07:58:13.672932",
     "exception": false,
     "start_time": "2021-11-30T07:58:13.537575",
     "status": "completed"
    },
    "tags": []
   },
   "outputs": [],
   "source": [
    "train = train_poly.drop(columns=cols_to_drop,axis=1)\n",
    "testing = test_poly.drop(columns=cols_to_drop,axis=1).copy()"
   ]
  },
  {
   "cell_type": "code",
   "execution_count": 47,
   "id": "d49dbe56",
   "metadata": {
    "execution": {
     "iopub.execute_input": "2021-11-30T07:58:13.870483Z",
     "iopub.status.busy": "2021-11-30T07:58:13.869720Z",
     "iopub.status.idle": "2021-11-30T07:58:13.871129Z",
     "shell.execute_reply": "2021-11-30T07:58:13.871730Z",
     "shell.execute_reply.started": "2021-11-30T07:49:43.361110Z"
    },
    "papermill": {
     "duration": 0.102603,
     "end_time": "2021-11-30T07:58:13.871919",
     "exception": false,
     "start_time": "2021-11-30T07:58:13.769316",
     "status": "completed"
    },
    "tags": []
   },
   "outputs": [],
   "source": [
    "# combining  train and test dataset for preprocessing\n",
    "data_combined = [train, testing]"
   ]
  },
  {
   "cell_type": "code",
   "execution_count": 48,
   "id": "1d0596c8",
   "metadata": {
    "execution": {
     "iopub.execute_input": "2021-11-30T07:58:14.069286Z",
     "iopub.status.busy": "2021-11-30T07:58:14.068620Z",
     "iopub.status.idle": "2021-11-30T07:58:14.113317Z",
     "shell.execute_reply": "2021-11-30T07:58:14.113883Z",
     "shell.execute_reply.started": "2021-11-30T07:49:43.366771Z"
    },
    "papermill": {
     "duration": 0.145769,
     "end_time": "2021-11-30T07:58:14.114103",
     "exception": false,
     "start_time": "2021-11-30T07:58:13.968334",
     "status": "completed"
    },
    "tags": []
   },
   "outputs": [],
   "source": [
    "for dataset in data_combined:\n",
    "    dataset.Credit_Product.fillna(value='No',inplace=True)"
   ]
  },
  {
   "cell_type": "code",
   "execution_count": 49,
   "id": "90d50694",
   "metadata": {
    "execution": {
     "iopub.execute_input": "2021-11-30T07:58:14.313482Z",
     "iopub.status.busy": "2021-11-30T07:58:14.312720Z",
     "iopub.status.idle": "2021-11-30T07:58:14.345349Z",
     "shell.execute_reply": "2021-11-30T07:58:14.345882Z",
     "shell.execute_reply.started": "2021-11-30T07:49:43.397895Z"
    },
    "papermill": {
     "duration": 0.133951,
     "end_time": "2021-11-30T07:58:14.346088",
     "exception": false,
     "start_time": "2021-11-30T07:58:14.212137",
     "status": "completed"
    },
    "tags": []
   },
   "outputs": [
    {
     "data": {
      "text/plain": [
       "0"
      ]
     },
     "execution_count": 49,
     "metadata": {},
     "output_type": "execute_result"
    }
   ],
   "source": [
    "#Shows that there are nolonger null values in the train set.\n",
    "train['Credit_Product'].isnull().sum()"
   ]
  },
  {
   "cell_type": "code",
   "execution_count": 50,
   "id": "35c068be",
   "metadata": {
    "execution": {
     "iopub.execute_input": "2021-11-30T07:58:14.543324Z",
     "iopub.status.busy": "2021-11-30T07:58:14.542654Z",
     "iopub.status.idle": "2021-11-30T07:58:14.561124Z",
     "shell.execute_reply": "2021-11-30T07:58:14.561656Z",
     "shell.execute_reply.started": "2021-11-30T07:49:43.417078Z"
    },
    "papermill": {
     "duration": 0.118887,
     "end_time": "2021-11-30T07:58:14.561851",
     "exception": false,
     "start_time": "2021-11-30T07:58:14.442964",
     "status": "completed"
    },
    "tags": []
   },
   "outputs": [
    {
     "data": {
      "text/plain": [
       "0"
      ]
     },
     "execution_count": 50,
     "metadata": {},
     "output_type": "execute_result"
    }
   ],
   "source": [
    "#Shows that there are nolonger null values in the test set as well.\n",
    "testing['Credit_Product'].isnull().sum()"
   ]
  },
  {
   "cell_type": "code",
   "execution_count": 51,
   "id": "102a6b8a",
   "metadata": {
    "execution": {
     "iopub.execute_input": "2021-11-30T07:58:14.760393Z",
     "iopub.status.busy": "2021-11-30T07:58:14.759344Z",
     "iopub.status.idle": "2021-11-30T07:58:14.764620Z",
     "shell.execute_reply": "2021-11-30T07:58:14.765150Z",
     "shell.execute_reply.started": "2021-11-30T07:49:43.432683Z"
    },
    "papermill": {
     "duration": 0.106367,
     "end_time": "2021-11-30T07:58:14.765365",
     "exception": false,
     "start_time": "2021-11-30T07:58:14.658998",
     "status": "completed"
    },
    "tags": []
   },
   "outputs": [],
   "source": [
    "#selection of categorical variables from the dataset\n",
    "cat_cols = [cname for cname in dataset.columns \n",
    "                    if  dataset[cname].dtype == \"object\"]"
   ]
  },
  {
   "cell_type": "code",
   "execution_count": 52,
   "id": "aa81172b",
   "metadata": {
    "execution": {
     "iopub.execute_input": "2021-11-30T07:58:15.005817Z",
     "iopub.status.busy": "2021-11-30T07:58:15.004801Z",
     "iopub.status.idle": "2021-11-30T07:58:15.209245Z",
     "shell.execute_reply": "2021-11-30T07:58:15.209736Z",
     "shell.execute_reply.started": "2021-11-30T07:49:43.442116Z"
    },
    "papermill": {
     "duration": 0.347143,
     "end_time": "2021-11-30T07:58:15.209940",
     "exception": false,
     "start_time": "2021-11-30T07:58:14.862797",
     "status": "completed"
    },
    "tags": []
   },
   "outputs": [],
   "source": [
    "train= pd.get_dummies(train,columns=cat_cols,drop_first=True)\n",
    "testing= pd.get_dummies(testing,columns=cat_cols,drop_first=True)"
   ]
  },
  {
   "cell_type": "code",
   "execution_count": 53,
   "id": "b6084967",
   "metadata": {
    "execution": {
     "iopub.execute_input": "2021-11-30T07:58:15.409229Z",
     "iopub.status.busy": "2021-11-30T07:58:15.408557Z",
     "iopub.status.idle": "2021-11-30T07:58:15.434743Z",
     "shell.execute_reply": "2021-11-30T07:58:15.434085Z",
     "shell.execute_reply.started": "2021-11-30T07:49:43.628988Z"
    },
    "papermill": {
     "duration": 0.127828,
     "end_time": "2021-11-30T07:58:15.434890",
     "exception": false,
     "start_time": "2021-11-30T07:58:15.307062",
     "status": "completed"
    },
    "tags": []
   },
   "outputs": [
    {
     "data": {
      "text/html": [
       "<div>\n",
       "<style scoped>\n",
       "    .dataframe tbody tr th:only-of-type {\n",
       "        vertical-align: middle;\n",
       "    }\n",
       "\n",
       "    .dataframe tbody tr th {\n",
       "        vertical-align: top;\n",
       "    }\n",
       "\n",
       "    .dataframe thead th {\n",
       "        text-align: right;\n",
       "    }\n",
       "</style>\n",
       "<table border=\"1\" class=\"dataframe\">\n",
       "  <thead>\n",
       "    <tr style=\"text-align: right;\">\n",
       "      <th></th>\n",
       "      <th>Age_x</th>\n",
       "      <th>Vintage_x</th>\n",
       "      <th>Avg_Account_Balance</th>\n",
       "      <th>Age_y</th>\n",
       "      <th>Vintage_y</th>\n",
       "      <th>Age^2</th>\n",
       "      <th>Age Vintage</th>\n",
       "      <th>Vintage^2</th>\n",
       "      <th>Age^3</th>\n",
       "      <th>Age^2 Vintage</th>\n",
       "      <th>...</th>\n",
       "      <th>Vintage^3</th>\n",
       "      <th>Gender_Male</th>\n",
       "      <th>Occupation_Other</th>\n",
       "      <th>Occupation_Salaried</th>\n",
       "      <th>Occupation_Self_Employed</th>\n",
       "      <th>Channel_Code_X2</th>\n",
       "      <th>Channel_Code_X3</th>\n",
       "      <th>Channel_Code_X4</th>\n",
       "      <th>Credit_Product_Yes</th>\n",
       "      <th>Is_Active_Yes</th>\n",
       "    </tr>\n",
       "  </thead>\n",
       "  <tbody>\n",
       "    <tr>\n",
       "      <th>0</th>\n",
       "      <td>73</td>\n",
       "      <td>43</td>\n",
       "      <td>1045696</td>\n",
       "      <td>73.0</td>\n",
       "      <td>43.0</td>\n",
       "      <td>5329.0</td>\n",
       "      <td>3139.0</td>\n",
       "      <td>1849.0</td>\n",
       "      <td>389017.0</td>\n",
       "      <td>229147.0</td>\n",
       "      <td>...</td>\n",
       "      <td>79507.0</td>\n",
       "      <td>0</td>\n",
       "      <td>1</td>\n",
       "      <td>0</td>\n",
       "      <td>0</td>\n",
       "      <td>0</td>\n",
       "      <td>1</td>\n",
       "      <td>0</td>\n",
       "      <td>0</td>\n",
       "      <td>0</td>\n",
       "    </tr>\n",
       "    <tr>\n",
       "      <th>1</th>\n",
       "      <td>30</td>\n",
       "      <td>32</td>\n",
       "      <td>581988</td>\n",
       "      <td>30.0</td>\n",
       "      <td>32.0</td>\n",
       "      <td>900.0</td>\n",
       "      <td>960.0</td>\n",
       "      <td>1024.0</td>\n",
       "      <td>27000.0</td>\n",
       "      <td>28800.0</td>\n",
       "      <td>...</td>\n",
       "      <td>32768.0</td>\n",
       "      <td>0</td>\n",
       "      <td>0</td>\n",
       "      <td>1</td>\n",
       "      <td>0</td>\n",
       "      <td>0</td>\n",
       "      <td>0</td>\n",
       "      <td>0</td>\n",
       "      <td>0</td>\n",
       "      <td>0</td>\n",
       "    </tr>\n",
       "    <tr>\n",
       "      <th>2</th>\n",
       "      <td>56</td>\n",
       "      <td>26</td>\n",
       "      <td>1484315</td>\n",
       "      <td>56.0</td>\n",
       "      <td>26.0</td>\n",
       "      <td>3136.0</td>\n",
       "      <td>1456.0</td>\n",
       "      <td>676.0</td>\n",
       "      <td>175616.0</td>\n",
       "      <td>81536.0</td>\n",
       "      <td>...</td>\n",
       "      <td>17576.0</td>\n",
       "      <td>0</td>\n",
       "      <td>0</td>\n",
       "      <td>0</td>\n",
       "      <td>1</td>\n",
       "      <td>0</td>\n",
       "      <td>1</td>\n",
       "      <td>0</td>\n",
       "      <td>0</td>\n",
       "      <td>1</td>\n",
       "    </tr>\n",
       "    <tr>\n",
       "      <th>3</th>\n",
       "      <td>34</td>\n",
       "      <td>19</td>\n",
       "      <td>470454</td>\n",
       "      <td>34.0</td>\n",
       "      <td>19.0</td>\n",
       "      <td>1156.0</td>\n",
       "      <td>646.0</td>\n",
       "      <td>361.0</td>\n",
       "      <td>39304.0</td>\n",
       "      <td>21964.0</td>\n",
       "      <td>...</td>\n",
       "      <td>6859.0</td>\n",
       "      <td>1</td>\n",
       "      <td>0</td>\n",
       "      <td>1</td>\n",
       "      <td>0</td>\n",
       "      <td>0</td>\n",
       "      <td>0</td>\n",
       "      <td>0</td>\n",
       "      <td>0</td>\n",
       "      <td>0</td>\n",
       "    </tr>\n",
       "    <tr>\n",
       "      <th>4</th>\n",
       "      <td>30</td>\n",
       "      <td>33</td>\n",
       "      <td>886787</td>\n",
       "      <td>30.0</td>\n",
       "      <td>33.0</td>\n",
       "      <td>900.0</td>\n",
       "      <td>990.0</td>\n",
       "      <td>1089.0</td>\n",
       "      <td>27000.0</td>\n",
       "      <td>29700.0</td>\n",
       "      <td>...</td>\n",
       "      <td>35937.0</td>\n",
       "      <td>0</td>\n",
       "      <td>0</td>\n",
       "      <td>1</td>\n",
       "      <td>0</td>\n",
       "      <td>0</td>\n",
       "      <td>0</td>\n",
       "      <td>0</td>\n",
       "      <td>0</td>\n",
       "      <td>0</td>\n",
       "    </tr>\n",
       "  </tbody>\n",
       "</table>\n",
       "<p>5 rows × 21 columns</p>\n",
       "</div>"
      ],
      "text/plain": [
       "   Age_x  Vintage_x  Avg_Account_Balance  Age_y  Vintage_y   Age^2  \\\n",
       "0     73         43              1045696   73.0       43.0  5329.0   \n",
       "1     30         32               581988   30.0       32.0   900.0   \n",
       "2     56         26              1484315   56.0       26.0  3136.0   \n",
       "3     34         19               470454   34.0       19.0  1156.0   \n",
       "4     30         33               886787   30.0       33.0   900.0   \n",
       "\n",
       "   Age Vintage  Vintage^2     Age^3  Age^2 Vintage  ...  Vintage^3  \\\n",
       "0       3139.0     1849.0  389017.0       229147.0  ...    79507.0   \n",
       "1        960.0     1024.0   27000.0        28800.0  ...    32768.0   \n",
       "2       1456.0      676.0  175616.0        81536.0  ...    17576.0   \n",
       "3        646.0      361.0   39304.0        21964.0  ...     6859.0   \n",
       "4        990.0     1089.0   27000.0        29700.0  ...    35937.0   \n",
       "\n",
       "   Gender_Male  Occupation_Other  Occupation_Salaried  \\\n",
       "0            0                 1                    0   \n",
       "1            0                 0                    1   \n",
       "2            0                 0                    0   \n",
       "3            1                 0                    1   \n",
       "4            0                 0                    1   \n",
       "\n",
       "   Occupation_Self_Employed  Channel_Code_X2  Channel_Code_X3  \\\n",
       "0                         0                0                1   \n",
       "1                         0                0                0   \n",
       "2                         1                0                1   \n",
       "3                         0                0                0   \n",
       "4                         0                0                0   \n",
       "\n",
       "   Channel_Code_X4  Credit_Product_Yes  Is_Active_Yes  \n",
       "0                0                   0              0  \n",
       "1                0                   0              0  \n",
       "2                0                   0              1  \n",
       "3                0                   0              0  \n",
       "4                0                   0              0  \n",
       "\n",
       "[5 rows x 21 columns]"
      ]
     },
     "execution_count": 53,
     "metadata": {},
     "output_type": "execute_result"
    }
   ],
   "source": [
    "train.head()"
   ]
  },
  {
   "cell_type": "code",
   "execution_count": 54,
   "id": "5fba7543",
   "metadata": {
    "execution": {
     "iopub.execute_input": "2021-11-30T07:58:15.634488Z",
     "iopub.status.busy": "2021-11-30T07:58:15.633796Z",
     "iopub.status.idle": "2021-11-30T07:58:15.659953Z",
     "shell.execute_reply": "2021-11-30T07:58:15.660560Z",
     "shell.execute_reply.started": "2021-11-30T07:49:43.651465Z"
    },
    "papermill": {
     "duration": 0.127916,
     "end_time": "2021-11-30T07:58:15.660743",
     "exception": false,
     "start_time": "2021-11-30T07:58:15.532827",
     "status": "completed"
    },
    "tags": []
   },
   "outputs": [
    {
     "data": {
      "text/html": [
       "<div>\n",
       "<style scoped>\n",
       "    .dataframe tbody tr th:only-of-type {\n",
       "        vertical-align: middle;\n",
       "    }\n",
       "\n",
       "    .dataframe tbody tr th {\n",
       "        vertical-align: top;\n",
       "    }\n",
       "\n",
       "    .dataframe thead th {\n",
       "        text-align: right;\n",
       "    }\n",
       "</style>\n",
       "<table border=\"1\" class=\"dataframe\">\n",
       "  <thead>\n",
       "    <tr style=\"text-align: right;\">\n",
       "      <th></th>\n",
       "      <th>Age_x</th>\n",
       "      <th>Vintage_x</th>\n",
       "      <th>Avg_Account_Balance</th>\n",
       "      <th>Age_y</th>\n",
       "      <th>Vintage_y</th>\n",
       "      <th>Age^2</th>\n",
       "      <th>Age Vintage</th>\n",
       "      <th>Vintage^2</th>\n",
       "      <th>Age^3</th>\n",
       "      <th>Age^2 Vintage</th>\n",
       "      <th>...</th>\n",
       "      <th>Vintage^3</th>\n",
       "      <th>Gender_Male</th>\n",
       "      <th>Occupation_Other</th>\n",
       "      <th>Occupation_Salaried</th>\n",
       "      <th>Occupation_Self_Employed</th>\n",
       "      <th>Channel_Code_X2</th>\n",
       "      <th>Channel_Code_X3</th>\n",
       "      <th>Channel_Code_X4</th>\n",
       "      <th>Credit_Product_Yes</th>\n",
       "      <th>Is_Active_Yes</th>\n",
       "    </tr>\n",
       "  </thead>\n",
       "  <tbody>\n",
       "    <tr>\n",
       "      <th>0</th>\n",
       "      <td>29</td>\n",
       "      <td>25</td>\n",
       "      <td>742366</td>\n",
       "      <td>29.0</td>\n",
       "      <td>25.0</td>\n",
       "      <td>841.0</td>\n",
       "      <td>725.0</td>\n",
       "      <td>625.0</td>\n",
       "      <td>24389.0</td>\n",
       "      <td>21025.0</td>\n",
       "      <td>...</td>\n",
       "      <td>15625.0</td>\n",
       "      <td>1</td>\n",
       "      <td>1</td>\n",
       "      <td>0</td>\n",
       "      <td>0</td>\n",
       "      <td>0</td>\n",
       "      <td>0</td>\n",
       "      <td>0</td>\n",
       "      <td>1</td>\n",
       "      <td>0</td>\n",
       "    </tr>\n",
       "    <tr>\n",
       "      <th>1</th>\n",
       "      <td>43</td>\n",
       "      <td>49</td>\n",
       "      <td>925537</td>\n",
       "      <td>43.0</td>\n",
       "      <td>49.0</td>\n",
       "      <td>1849.0</td>\n",
       "      <td>2107.0</td>\n",
       "      <td>2401.0</td>\n",
       "      <td>79507.0</td>\n",
       "      <td>90601.0</td>\n",
       "      <td>...</td>\n",
       "      <td>117649.0</td>\n",
       "      <td>1</td>\n",
       "      <td>1</td>\n",
       "      <td>0</td>\n",
       "      <td>0</td>\n",
       "      <td>1</td>\n",
       "      <td>0</td>\n",
       "      <td>0</td>\n",
       "      <td>0</td>\n",
       "      <td>0</td>\n",
       "    </tr>\n",
       "    <tr>\n",
       "      <th>2</th>\n",
       "      <td>31</td>\n",
       "      <td>14</td>\n",
       "      <td>215949</td>\n",
       "      <td>31.0</td>\n",
       "      <td>14.0</td>\n",
       "      <td>961.0</td>\n",
       "      <td>434.0</td>\n",
       "      <td>196.0</td>\n",
       "      <td>29791.0</td>\n",
       "      <td>13454.0</td>\n",
       "      <td>...</td>\n",
       "      <td>2744.0</td>\n",
       "      <td>1</td>\n",
       "      <td>0</td>\n",
       "      <td>1</td>\n",
       "      <td>0</td>\n",
       "      <td>0</td>\n",
       "      <td>0</td>\n",
       "      <td>0</td>\n",
       "      <td>0</td>\n",
       "      <td>0</td>\n",
       "    </tr>\n",
       "    <tr>\n",
       "      <th>3</th>\n",
       "      <td>29</td>\n",
       "      <td>33</td>\n",
       "      <td>868070</td>\n",
       "      <td>29.0</td>\n",
       "      <td>33.0</td>\n",
       "      <td>841.0</td>\n",
       "      <td>957.0</td>\n",
       "      <td>1089.0</td>\n",
       "      <td>24389.0</td>\n",
       "      <td>27753.0</td>\n",
       "      <td>...</td>\n",
       "      <td>35937.0</td>\n",
       "      <td>1</td>\n",
       "      <td>1</td>\n",
       "      <td>0</td>\n",
       "      <td>0</td>\n",
       "      <td>0</td>\n",
       "      <td>0</td>\n",
       "      <td>0</td>\n",
       "      <td>0</td>\n",
       "      <td>0</td>\n",
       "    </tr>\n",
       "    <tr>\n",
       "      <th>4</th>\n",
       "      <td>29</td>\n",
       "      <td>19</td>\n",
       "      <td>657087</td>\n",
       "      <td>29.0</td>\n",
       "      <td>19.0</td>\n",
       "      <td>841.0</td>\n",
       "      <td>551.0</td>\n",
       "      <td>361.0</td>\n",
       "      <td>24389.0</td>\n",
       "      <td>15979.0</td>\n",
       "      <td>...</td>\n",
       "      <td>6859.0</td>\n",
       "      <td>0</td>\n",
       "      <td>1</td>\n",
       "      <td>0</td>\n",
       "      <td>0</td>\n",
       "      <td>0</td>\n",
       "      <td>0</td>\n",
       "      <td>0</td>\n",
       "      <td>0</td>\n",
       "      <td>0</td>\n",
       "    </tr>\n",
       "  </tbody>\n",
       "</table>\n",
       "<p>5 rows × 21 columns</p>\n",
       "</div>"
      ],
      "text/plain": [
       "   Age_x  Vintage_x  Avg_Account_Balance  Age_y  Vintage_y   Age^2  \\\n",
       "0     29         25               742366   29.0       25.0   841.0   \n",
       "1     43         49               925537   43.0       49.0  1849.0   \n",
       "2     31         14               215949   31.0       14.0   961.0   \n",
       "3     29         33               868070   29.0       33.0   841.0   \n",
       "4     29         19               657087   29.0       19.0   841.0   \n",
       "\n",
       "   Age Vintage  Vintage^2    Age^3  Age^2 Vintage  ...  Vintage^3  \\\n",
       "0        725.0      625.0  24389.0        21025.0  ...    15625.0   \n",
       "1       2107.0     2401.0  79507.0        90601.0  ...   117649.0   \n",
       "2        434.0      196.0  29791.0        13454.0  ...     2744.0   \n",
       "3        957.0     1089.0  24389.0        27753.0  ...    35937.0   \n",
       "4        551.0      361.0  24389.0        15979.0  ...     6859.0   \n",
       "\n",
       "   Gender_Male  Occupation_Other  Occupation_Salaried  \\\n",
       "0            1                 1                    0   \n",
       "1            1                 1                    0   \n",
       "2            1                 0                    1   \n",
       "3            1                 1                    0   \n",
       "4            0                 1                    0   \n",
       "\n",
       "   Occupation_Self_Employed  Channel_Code_X2  Channel_Code_X3  \\\n",
       "0                         0                0                0   \n",
       "1                         0                1                0   \n",
       "2                         0                0                0   \n",
       "3                         0                0                0   \n",
       "4                         0                0                0   \n",
       "\n",
       "   Channel_Code_X4  Credit_Product_Yes  Is_Active_Yes  \n",
       "0                0                   1              0  \n",
       "1                0                   0              0  \n",
       "2                0                   0              0  \n",
       "3                0                   0              0  \n",
       "4                0                   0              0  \n",
       "\n",
       "[5 rows x 21 columns]"
      ]
     },
     "execution_count": 54,
     "metadata": {},
     "output_type": "execute_result"
    }
   ],
   "source": [
    "testing.head()"
   ]
  },
  {
   "cell_type": "markdown",
   "id": "96b5ba6b",
   "metadata": {
    "papermill": {
     "duration": 0.098375,
     "end_time": "2021-11-30T07:58:15.857038",
     "exception": false,
     "start_time": "2021-11-30T07:58:15.758663",
     "status": "completed"
    },
    "tags": []
   },
   "source": [
    "Lets preprocess the numerical features in both datasets..\n",
    "we are going to standardize the features for better performance during the modeling phase"
   ]
  },
  {
   "cell_type": "code",
   "execution_count": 55,
   "id": "d7ecb314",
   "metadata": {
    "execution": {
     "iopub.execute_input": "2021-11-30T07:58:16.063479Z",
     "iopub.status.busy": "2021-11-30T07:58:16.062695Z",
     "iopub.status.idle": "2021-11-30T07:58:16.066809Z",
     "shell.execute_reply": "2021-11-30T07:58:16.067480Z",
     "shell.execute_reply.started": "2021-11-30T07:49:43.677173Z"
    },
    "papermill": {
     "duration": 0.112746,
     "end_time": "2021-11-30T07:58:16.067657",
     "exception": false,
     "start_time": "2021-11-30T07:58:15.954911",
     "status": "completed"
    },
    "tags": []
   },
   "outputs": [],
   "source": [
    "#Select numerical columns\n",
    "num_cols = [cname for cname in dataset.columns \n",
    "            if dataset[cname].dtype in ['int64', 'float64']]"
   ]
  },
  {
   "cell_type": "code",
   "execution_count": 56,
   "id": "dd2ad5e3",
   "metadata": {
    "execution": {
     "iopub.execute_input": "2021-11-30T07:58:16.267094Z",
     "iopub.status.busy": "2021-11-30T07:58:16.266479Z",
     "iopub.status.idle": "2021-11-30T07:58:16.449621Z",
     "shell.execute_reply": "2021-11-30T07:58:16.450172Z",
     "shell.execute_reply.started": "2021-11-30T07:49:43.682539Z"
    },
    "papermill": {
     "duration": 0.284514,
     "end_time": "2021-11-30T07:58:16.450349",
     "exception": false,
     "start_time": "2021-11-30T07:58:16.165835",
     "status": "completed"
    },
    "tags": []
   },
   "outputs": [],
   "source": [
    "#define the scaler object\n",
    "scaler = StandardScaler()\n",
    "\n",
    "# scale and transform numeric features n\n",
    "train[num_cols] = scaler.fit_transform(train[num_cols])\n",
    "testing[num_cols] = scaler.transform(testing[num_cols])"
   ]
  },
  {
   "cell_type": "code",
   "execution_count": 57,
   "id": "b54f99c3",
   "metadata": {
    "execution": {
     "iopub.execute_input": "2021-11-30T07:58:16.658648Z",
     "iopub.status.busy": "2021-11-30T07:58:16.657908Z",
     "iopub.status.idle": "2021-11-30T07:58:16.682676Z",
     "shell.execute_reply": "2021-11-30T07:58:16.683209Z",
     "shell.execute_reply.started": "2021-11-30T07:49:43.818831Z"
    },
    "papermill": {
     "duration": 0.130816,
     "end_time": "2021-11-30T07:58:16.683418",
     "exception": false,
     "start_time": "2021-11-30T07:58:16.552602",
     "status": "completed"
    },
    "tags": []
   },
   "outputs": [
    {
     "data": {
      "text/html": [
       "<div>\n",
       "<style scoped>\n",
       "    .dataframe tbody tr th:only-of-type {\n",
       "        vertical-align: middle;\n",
       "    }\n",
       "\n",
       "    .dataframe tbody tr th {\n",
       "        vertical-align: top;\n",
       "    }\n",
       "\n",
       "    .dataframe thead th {\n",
       "        text-align: right;\n",
       "    }\n",
       "</style>\n",
       "<table border=\"1\" class=\"dataframe\">\n",
       "  <thead>\n",
       "    <tr style=\"text-align: right;\">\n",
       "      <th></th>\n",
       "      <th>Age_x</th>\n",
       "      <th>Vintage_x</th>\n",
       "      <th>Avg_Account_Balance</th>\n",
       "      <th>Age_y</th>\n",
       "      <th>Vintage_y</th>\n",
       "      <th>Age^2</th>\n",
       "      <th>Age Vintage</th>\n",
       "      <th>Vintage^2</th>\n",
       "      <th>Age^3</th>\n",
       "      <th>Age^2 Vintage</th>\n",
       "      <th>...</th>\n",
       "      <th>Vintage^3</th>\n",
       "      <th>Gender_Male</th>\n",
       "      <th>Occupation_Other</th>\n",
       "      <th>Occupation_Salaried</th>\n",
       "      <th>Occupation_Self_Employed</th>\n",
       "      <th>Channel_Code_X2</th>\n",
       "      <th>Channel_Code_X3</th>\n",
       "      <th>Channel_Code_X4</th>\n",
       "      <th>Credit_Product_Yes</th>\n",
       "      <th>Is_Active_Yes</th>\n",
       "    </tr>\n",
       "  </thead>\n",
       "  <tbody>\n",
       "    <tr>\n",
       "      <th>0</th>\n",
       "      <td>1.965365</td>\n",
       "      <td>-0.122373</td>\n",
       "      <td>-0.096968</td>\n",
       "      <td>1.965365</td>\n",
       "      <td>-0.122373</td>\n",
       "      <td>2.187384</td>\n",
       "      <td>0.364447</td>\n",
       "      <td>-0.354200</td>\n",
       "      <td>2.323265</td>\n",
       "      <td>0.691047</td>\n",
       "      <td>...</td>\n",
       "      <td>-0.448740</td>\n",
       "      <td>0</td>\n",
       "      <td>1</td>\n",
       "      <td>0</td>\n",
       "      <td>0</td>\n",
       "      <td>0</td>\n",
       "      <td>1</td>\n",
       "      <td>0</td>\n",
       "      <td>0</td>\n",
       "      <td>0</td>\n",
       "    </tr>\n",
       "    <tr>\n",
       "      <th>1</th>\n",
       "      <td>-0.934429</td>\n",
       "      <td>-0.462372</td>\n",
       "      <td>-0.640630</td>\n",
       "      <td>-0.934429</td>\n",
       "      <td>-0.462372</td>\n",
       "      <td>-0.853648</td>\n",
       "      <td>-0.657987</td>\n",
       "      <td>-0.562496</td>\n",
       "      <td>-0.749487</td>\n",
       "      <td>-0.681575</td>\n",
       "      <td>...</td>\n",
       "      <td>-0.554527</td>\n",
       "      <td>0</td>\n",
       "      <td>0</td>\n",
       "      <td>1</td>\n",
       "      <td>0</td>\n",
       "      <td>0</td>\n",
       "      <td>0</td>\n",
       "      <td>0</td>\n",
       "      <td>0</td>\n",
       "      <td>0</td>\n",
       "    </tr>\n",
       "    <tr>\n",
       "      <th>2</th>\n",
       "      <td>0.818935</td>\n",
       "      <td>-0.647825</td>\n",
       "      <td>0.417279</td>\n",
       "      <td>0.818935</td>\n",
       "      <td>-0.647825</td>\n",
       "      <td>0.681630</td>\n",
       "      <td>-0.425253</td>\n",
       "      <td>-0.650359</td>\n",
       "      <td>0.511946</td>\n",
       "      <td>-0.320269</td>\n",
       "      <td>...</td>\n",
       "      <td>-0.588911</td>\n",
       "      <td>0</td>\n",
       "      <td>0</td>\n",
       "      <td>0</td>\n",
       "      <td>1</td>\n",
       "      <td>0</td>\n",
       "      <td>1</td>\n",
       "      <td>0</td>\n",
       "      <td>0</td>\n",
       "      <td>1</td>\n",
       "    </tr>\n",
       "    <tr>\n",
       "      <th>3</th>\n",
       "      <td>-0.664680</td>\n",
       "      <td>-0.864188</td>\n",
       "      <td>-0.771395</td>\n",
       "      <td>-0.664680</td>\n",
       "      <td>-0.864188</td>\n",
       "      <td>-0.677874</td>\n",
       "      <td>-0.805322</td>\n",
       "      <td>-0.729890</td>\n",
       "      <td>-0.645052</td>\n",
       "      <td>-0.728410</td>\n",
       "      <td>...</td>\n",
       "      <td>-0.613168</td>\n",
       "      <td>1</td>\n",
       "      <td>0</td>\n",
       "      <td>1</td>\n",
       "      <td>0</td>\n",
       "      <td>0</td>\n",
       "      <td>0</td>\n",
       "      <td>0</td>\n",
       "      <td>0</td>\n",
       "      <td>0</td>\n",
       "    </tr>\n",
       "    <tr>\n",
       "      <th>4</th>\n",
       "      <td>-0.934429</td>\n",
       "      <td>-0.431463</td>\n",
       "      <td>-0.283276</td>\n",
       "      <td>-0.934429</td>\n",
       "      <td>-0.431463</td>\n",
       "      <td>-0.853648</td>\n",
       "      <td>-0.643910</td>\n",
       "      <td>-0.546085</td>\n",
       "      <td>-0.749487</td>\n",
       "      <td>-0.675409</td>\n",
       "      <td>...</td>\n",
       "      <td>-0.547354</td>\n",
       "      <td>0</td>\n",
       "      <td>0</td>\n",
       "      <td>1</td>\n",
       "      <td>0</td>\n",
       "      <td>0</td>\n",
       "      <td>0</td>\n",
       "      <td>0</td>\n",
       "      <td>0</td>\n",
       "      <td>0</td>\n",
       "    </tr>\n",
       "  </tbody>\n",
       "</table>\n",
       "<p>5 rows × 21 columns</p>\n",
       "</div>"
      ],
      "text/plain": [
       "      Age_x  Vintage_x  Avg_Account_Balance     Age_y  Vintage_y     Age^2  \\\n",
       "0  1.965365  -0.122373            -0.096968  1.965365  -0.122373  2.187384   \n",
       "1 -0.934429  -0.462372            -0.640630 -0.934429  -0.462372 -0.853648   \n",
       "2  0.818935  -0.647825             0.417279  0.818935  -0.647825  0.681630   \n",
       "3 -0.664680  -0.864188            -0.771395 -0.664680  -0.864188 -0.677874   \n",
       "4 -0.934429  -0.431463            -0.283276 -0.934429  -0.431463 -0.853648   \n",
       "\n",
       "   Age Vintage  Vintage^2     Age^3  Age^2 Vintage  ...  Vintage^3  \\\n",
       "0     0.364447  -0.354200  2.323265       0.691047  ...  -0.448740   \n",
       "1    -0.657987  -0.562496 -0.749487      -0.681575  ...  -0.554527   \n",
       "2    -0.425253  -0.650359  0.511946      -0.320269  ...  -0.588911   \n",
       "3    -0.805322  -0.729890 -0.645052      -0.728410  ...  -0.613168   \n",
       "4    -0.643910  -0.546085 -0.749487      -0.675409  ...  -0.547354   \n",
       "\n",
       "   Gender_Male  Occupation_Other  Occupation_Salaried  \\\n",
       "0            0                 1                    0   \n",
       "1            0                 0                    1   \n",
       "2            0                 0                    0   \n",
       "3            1                 0                    1   \n",
       "4            0                 0                    1   \n",
       "\n",
       "   Occupation_Self_Employed  Channel_Code_X2  Channel_Code_X3  \\\n",
       "0                         0                0                1   \n",
       "1                         0                0                0   \n",
       "2                         1                0                1   \n",
       "3                         0                0                0   \n",
       "4                         0                0                0   \n",
       "\n",
       "   Channel_Code_X4  Credit_Product_Yes  Is_Active_Yes  \n",
       "0                0                   0              0  \n",
       "1                0                   0              0  \n",
       "2                0                   0              1  \n",
       "3                0                   0              0  \n",
       "4                0                   0              0  \n",
       "\n",
       "[5 rows x 21 columns]"
      ]
     },
     "execution_count": 57,
     "metadata": {},
     "output_type": "execute_result"
    }
   ],
   "source": [
    "#final training features\n",
    "train.head()"
   ]
  },
  {
   "cell_type": "code",
   "execution_count": 58,
   "id": "22bdb3a7",
   "metadata": {
    "execution": {
     "iopub.execute_input": "2021-11-30T07:58:16.886669Z",
     "iopub.status.busy": "2021-11-30T07:58:16.885713Z",
     "iopub.status.idle": "2021-11-30T07:58:16.907547Z",
     "shell.execute_reply": "2021-11-30T07:58:16.908130Z",
     "shell.execute_reply.started": "2021-11-30T07:49:43.845905Z"
    },
    "papermill": {
     "duration": 0.125689,
     "end_time": "2021-11-30T07:58:16.908337",
     "exception": false,
     "start_time": "2021-11-30T07:58:16.782648",
     "status": "completed"
    },
    "tags": []
   },
   "outputs": [
    {
     "data": {
      "text/html": [
       "<div>\n",
       "<style scoped>\n",
       "    .dataframe tbody tr th:only-of-type {\n",
       "        vertical-align: middle;\n",
       "    }\n",
       "\n",
       "    .dataframe tbody tr th {\n",
       "        vertical-align: top;\n",
       "    }\n",
       "\n",
       "    .dataframe thead th {\n",
       "        text-align: right;\n",
       "    }\n",
       "</style>\n",
       "<table border=\"1\" class=\"dataframe\">\n",
       "  <thead>\n",
       "    <tr style=\"text-align: right;\">\n",
       "      <th></th>\n",
       "      <th>Age_x</th>\n",
       "      <th>Vintage_x</th>\n",
       "      <th>Avg_Account_Balance</th>\n",
       "      <th>Age_y</th>\n",
       "      <th>Vintage_y</th>\n",
       "      <th>Age^2</th>\n",
       "      <th>Age Vintage</th>\n",
       "      <th>Vintage^2</th>\n",
       "      <th>Age^3</th>\n",
       "      <th>Age^2 Vintage</th>\n",
       "      <th>...</th>\n",
       "      <th>Vintage^3</th>\n",
       "      <th>Gender_Male</th>\n",
       "      <th>Occupation_Other</th>\n",
       "      <th>Occupation_Salaried</th>\n",
       "      <th>Occupation_Self_Employed</th>\n",
       "      <th>Channel_Code_X2</th>\n",
       "      <th>Channel_Code_X3</th>\n",
       "      <th>Channel_Code_X4</th>\n",
       "      <th>Credit_Product_Yes</th>\n",
       "      <th>Is_Active_Yes</th>\n",
       "    </tr>\n",
       "  </thead>\n",
       "  <tbody>\n",
       "    <tr>\n",
       "      <th>0</th>\n",
       "      <td>-1.001866</td>\n",
       "      <td>-0.678734</td>\n",
       "      <td>-0.452599</td>\n",
       "      <td>-1.001866</td>\n",
       "      <td>-0.678734</td>\n",
       "      <td>-0.894158</td>\n",
       "      <td>-0.768254</td>\n",
       "      <td>-0.663235</td>\n",
       "      <td>-0.771649</td>\n",
       "      <td>-0.734843</td>\n",
       "      <td>...</td>\n",
       "      <td>-0.593327</td>\n",
       "      <td>1</td>\n",
       "      <td>1</td>\n",
       "      <td>0</td>\n",
       "      <td>0</td>\n",
       "      <td>0</td>\n",
       "      <td>0</td>\n",
       "      <td>0</td>\n",
       "      <td>1</td>\n",
       "      <td>0</td>\n",
       "    </tr>\n",
       "    <tr>\n",
       "      <th>1</th>\n",
       "      <td>-0.057747</td>\n",
       "      <td>0.063081</td>\n",
       "      <td>-0.237845</td>\n",
       "      <td>-0.057747</td>\n",
       "      <td>0.063081</td>\n",
       "      <td>-0.202047</td>\n",
       "      <td>-0.119790</td>\n",
       "      <td>-0.214831</td>\n",
       "      <td>-0.303814</td>\n",
       "      <td>-0.258163</td>\n",
       "      <td>...</td>\n",
       "      <td>-0.362412</td>\n",
       "      <td>1</td>\n",
       "      <td>1</td>\n",
       "      <td>0</td>\n",
       "      <td>0</td>\n",
       "      <td>1</td>\n",
       "      <td>0</td>\n",
       "      <td>0</td>\n",
       "      <td>0</td>\n",
       "      <td>0</td>\n",
       "    </tr>\n",
       "    <tr>\n",
       "      <th>2</th>\n",
       "      <td>-0.866992</td>\n",
       "      <td>-1.018733</td>\n",
       "      <td>-1.069782</td>\n",
       "      <td>-0.866992</td>\n",
       "      <td>-1.018733</td>\n",
       "      <td>-0.811764</td>\n",
       "      <td>-0.904797</td>\n",
       "      <td>-0.771549</td>\n",
       "      <td>-0.725797</td>\n",
       "      <td>-0.786714</td>\n",
       "      <td>...</td>\n",
       "      <td>-0.622481</td>\n",
       "      <td>1</td>\n",
       "      <td>0</td>\n",
       "      <td>1</td>\n",
       "      <td>0</td>\n",
       "      <td>0</td>\n",
       "      <td>0</td>\n",
       "      <td>0</td>\n",
       "      <td>0</td>\n",
       "      <td>0</td>\n",
       "    </tr>\n",
       "    <tr>\n",
       "      <th>3</th>\n",
       "      <td>-1.001866</td>\n",
       "      <td>-0.431463</td>\n",
       "      <td>-0.305220</td>\n",
       "      <td>-1.001866</td>\n",
       "      <td>-0.431463</td>\n",
       "      <td>-0.894158</td>\n",
       "      <td>-0.659394</td>\n",
       "      <td>-0.546085</td>\n",
       "      <td>-0.771649</td>\n",
       "      <td>-0.688748</td>\n",
       "      <td>...</td>\n",
       "      <td>-0.547354</td>\n",
       "      <td>1</td>\n",
       "      <td>1</td>\n",
       "      <td>0</td>\n",
       "      <td>0</td>\n",
       "      <td>0</td>\n",
       "      <td>0</td>\n",
       "      <td>0</td>\n",
       "      <td>0</td>\n",
       "      <td>0</td>\n",
       "    </tr>\n",
       "    <tr>\n",
       "      <th>4</th>\n",
       "      <td>-1.001866</td>\n",
       "      <td>-0.864188</td>\n",
       "      <td>-0.552582</td>\n",
       "      <td>-1.001866</td>\n",
       "      <td>-0.864188</td>\n",
       "      <td>-0.894158</td>\n",
       "      <td>-0.849898</td>\n",
       "      <td>-0.729890</td>\n",
       "      <td>-0.771649</td>\n",
       "      <td>-0.769415</td>\n",
       "      <td>...</td>\n",
       "      <td>-0.613168</td>\n",
       "      <td>0</td>\n",
       "      <td>1</td>\n",
       "      <td>0</td>\n",
       "      <td>0</td>\n",
       "      <td>0</td>\n",
       "      <td>0</td>\n",
       "      <td>0</td>\n",
       "      <td>0</td>\n",
       "      <td>0</td>\n",
       "    </tr>\n",
       "  </tbody>\n",
       "</table>\n",
       "<p>5 rows × 21 columns</p>\n",
       "</div>"
      ],
      "text/plain": [
       "      Age_x  Vintage_x  Avg_Account_Balance     Age_y  Vintage_y     Age^2  \\\n",
       "0 -1.001866  -0.678734            -0.452599 -1.001866  -0.678734 -0.894158   \n",
       "1 -0.057747   0.063081            -0.237845 -0.057747   0.063081 -0.202047   \n",
       "2 -0.866992  -1.018733            -1.069782 -0.866992  -1.018733 -0.811764   \n",
       "3 -1.001866  -0.431463            -0.305220 -1.001866  -0.431463 -0.894158   \n",
       "4 -1.001866  -0.864188            -0.552582 -1.001866  -0.864188 -0.894158   \n",
       "\n",
       "   Age Vintage  Vintage^2     Age^3  Age^2 Vintage  ...  Vintage^3  \\\n",
       "0    -0.768254  -0.663235 -0.771649      -0.734843  ...  -0.593327   \n",
       "1    -0.119790  -0.214831 -0.303814      -0.258163  ...  -0.362412   \n",
       "2    -0.904797  -0.771549 -0.725797      -0.786714  ...  -0.622481   \n",
       "3    -0.659394  -0.546085 -0.771649      -0.688748  ...  -0.547354   \n",
       "4    -0.849898  -0.729890 -0.771649      -0.769415  ...  -0.613168   \n",
       "\n",
       "   Gender_Male  Occupation_Other  Occupation_Salaried  \\\n",
       "0            1                 1                    0   \n",
       "1            1                 1                    0   \n",
       "2            1                 0                    1   \n",
       "3            1                 1                    0   \n",
       "4            0                 1                    0   \n",
       "\n",
       "   Occupation_Self_Employed  Channel_Code_X2  Channel_Code_X3  \\\n",
       "0                         0                0                0   \n",
       "1                         0                1                0   \n",
       "2                         0                0                0   \n",
       "3                         0                0                0   \n",
       "4                         0                0                0   \n",
       "\n",
       "   Channel_Code_X4  Credit_Product_Yes  Is_Active_Yes  \n",
       "0                0                   1              0  \n",
       "1                0                   0              0  \n",
       "2                0                   0              0  \n",
       "3                0                   0              0  \n",
       "4                0                   0              0  \n",
       "\n",
       "[5 rows x 21 columns]"
      ]
     },
     "execution_count": 58,
     "metadata": {},
     "output_type": "execute_result"
    }
   ],
   "source": [
    "#final test features\n",
    "testing.head()"
   ]
  },
  {
   "cell_type": "code",
   "execution_count": 59,
   "id": "18d85bdc",
   "metadata": {
    "execution": {
     "iopub.execute_input": "2021-11-30T07:58:17.114397Z",
     "iopub.status.busy": "2021-11-30T07:58:17.113712Z",
     "iopub.status.idle": "2021-11-30T07:58:17.361579Z",
     "shell.execute_reply": "2021-11-30T07:58:17.360799Z",
     "shell.execute_reply.started": "2021-11-30T07:49:43.870383Z"
    },
    "papermill": {
     "duration": 0.352586,
     "end_time": "2021-11-30T07:58:17.361753",
     "exception": false,
     "start_time": "2021-11-30T07:58:17.009167",
     "status": "completed"
    },
    "tags": []
   },
   "outputs": [],
   "source": [
    "#splitting the data to create validation splits.\n",
    "#stratified sampling ensures the even distribution of classes of the target variable.\n",
    "X_train , X_val , y_train , y_val = train_test_split(train,train_labels,test_size = 0.2, random_state = 1, stratify=train_labels)"
   ]
  },
  {
   "cell_type": "code",
   "execution_count": 60,
   "id": "97a4bec7",
   "metadata": {
    "execution": {
     "iopub.execute_input": "2021-11-30T07:58:17.565601Z",
     "iopub.status.busy": "2021-11-30T07:58:17.564881Z",
     "iopub.status.idle": "2021-11-30T07:58:17.569844Z",
     "shell.execute_reply": "2021-11-30T07:58:17.570555Z",
     "shell.execute_reply.started": "2021-11-30T07:49:44.016305Z"
    },
    "papermill": {
     "duration": 0.109311,
     "end_time": "2021-11-30T07:58:17.570770",
     "exception": false,
     "start_time": "2021-11-30T07:58:17.461459",
     "status": "completed"
    },
    "tags": []
   },
   "outputs": [
    {
     "data": {
      "text/plain": [
       "((196580, 21), (196580,), (49145, 21), (49145,))"
      ]
     },
     "execution_count": 60,
     "metadata": {},
     "output_type": "execute_result"
    }
   ],
   "source": [
    "X_train.shape , y_train.shape, X_val.shape,y_val.shape"
   ]
  },
  {
   "cell_type": "markdown",
   "id": "86e62b41",
   "metadata": {
    "papermill": {
     "duration": 0.100904,
     "end_time": "2021-11-30T07:58:17.772951",
     "exception": false,
     "start_time": "2021-11-30T07:58:17.672047",
     "status": "completed"
    },
    "tags": []
   },
   "source": [
    "# **4. MODEL SELECTION AND TRAINING**\n",
    "\n",
    "We shall not use the train accuracy for evaulating our models here since it's not so informative in an imbalanced dataset like the one we are dealing with here"
   ]
  },
  {
   "cell_type": "code",
   "execution_count": 61,
   "id": "15b71524",
   "metadata": {
    "execution": {
     "iopub.execute_input": "2021-11-30T07:58:17.976651Z",
     "iopub.status.busy": "2021-11-30T07:58:17.975906Z",
     "iopub.status.idle": "2021-11-30T07:58:17.982527Z",
     "shell.execute_reply": "2021-11-30T07:58:17.981962Z",
     "shell.execute_reply.started": "2021-11-30T07:49:44.023027Z"
    },
    "papermill": {
     "duration": 0.110392,
     "end_time": "2021-11-30T07:58:17.982678",
     "exception": false,
     "start_time": "2021-11-30T07:58:17.872286",
     "status": "completed"
    },
    "tags": []
   },
   "outputs": [],
   "source": [
    "#Function to train and evaulate a given model\n",
    "def fit_Evaulate(model,X_train,y_train):\n",
    "    \n",
    "    model.fit(X_train, y_train)\n",
    "    y_pred=model.predict_proba(X_val)[:,1]#predict and retrieve probabilities for positive class\n",
    "    y_pred2 = model.predict(X_val)# predict class values\n",
    "    auc = roc_auc_score(y_val, y_pred)\n",
    "    confusion = confusion_matrix(y_val,y_pred2)\n",
    "    f_score = f1_score(y_val,y_pred2)\n",
    "    \n",
    "    return auc,confusion,f_score"
   ]
  },
  {
   "cell_type": "code",
   "execution_count": 62,
   "id": "409667bb",
   "metadata": {
    "execution": {
     "iopub.execute_input": "2021-11-30T07:58:18.185138Z",
     "iopub.status.busy": "2021-11-30T07:58:18.184445Z",
     "iopub.status.idle": "2021-11-30T07:58:18.307751Z",
     "shell.execute_reply": "2021-11-30T07:58:18.307160Z",
     "shell.execute_reply.started": "2021-11-30T07:49:44.033662Z"
    },
    "papermill": {
     "duration": 0.226004,
     "end_time": "2021-11-30T07:58:18.307921",
     "exception": false,
     "start_time": "2021-11-30T07:58:18.081917",
     "status": "completed"
    },
    "tags": []
   },
   "outputs": [
    {
     "name": "stdout",
     "output_type": "stream",
     "text": [
      "Model performance metric report:\n",
      "The dummy ROC AUC for validation data: ROC AUC=0.500\n",
      "The harmonic mean of  the dumy classifier, f1_score 0.25\n"
     ]
    }
   ],
   "source": [
    "#train and make  a preduction using a dumpy classifier\n",
    "from sklearn.dummy import DummyClassifier\n",
    "model = DummyClassifier()\n",
    "dummy_auc,Dammy_confusion,f_score_dummy = fit_Evaulate(model,X_train,y_train)\n",
    "print(\"Model performance metric report:\")\n",
    "print('The dummy ROC AUC for validation data: ROC AUC=%.3f' %(dummy_auc))\n",
    "print('The harmonic mean of  the dumy classifier, f1_score {:.2f}'.format(f_score_dummy))"
   ]
  },
  {
   "cell_type": "code",
   "execution_count": 63,
   "id": "c5c6424c",
   "metadata": {
    "execution": {
     "iopub.execute_input": "2021-11-30T07:58:18.514180Z",
     "iopub.status.busy": "2021-11-30T07:58:18.513463Z",
     "iopub.status.idle": "2021-11-30T07:59:06.307101Z",
     "shell.execute_reply": "2021-11-30T07:59:06.307863Z",
     "shell.execute_reply.started": "2021-11-30T07:49:44.125571Z"
    },
    "papermill": {
     "duration": 47.898382,
     "end_time": "2021-11-30T07:59:06.308117",
     "exception": false,
     "start_time": "2021-11-30T07:58:18.409735",
     "status": "completed"
    },
    "tags": []
   },
   "outputs": [
    {
     "name": "stdout",
     "output_type": "stream",
     "text": [
      "Model performance metric report:\n",
      "Random Forest ROC AUC for vaalidation data: ROC AUC=0.72\n",
      "The harmonic mean for the Random forest Classifier, f1_score : 0.39\n"
     ]
    }
   ],
   "source": [
    "RF_clf = RandomForestClassifier(class_weight=\"balanced\",random_state=3)\n",
    "RF_auc,RF_confusion,f_score_RF = fit_Evaulate(RF_clf,X_train,y_train)\n",
    "print(\"Model performance metric report:\")\n",
    "print('Random Forest ROC AUC for vaalidation data: ROC AUC=%.2f' %(RF_auc))\n",
    "print('The harmonic mean for the Random forest Classifier, f1_score : {:.2f}'.format(f_score_RF))"
   ]
  },
  {
   "cell_type": "code",
   "execution_count": 64,
   "id": "5b1affe4",
   "metadata": {
    "execution": {
     "iopub.execute_input": "2021-11-30T07:59:06.515134Z",
     "iopub.status.busy": "2021-11-30T07:59:06.514486Z",
     "iopub.status.idle": "2021-11-30T07:59:56.820228Z",
     "shell.execute_reply": "2021-11-30T07:59:56.820819Z",
     "shell.execute_reply.started": "2021-11-30T07:50:27.120965Z"
    },
    "papermill": {
     "duration": 50.409465,
     "end_time": "2021-11-30T07:59:56.821023",
     "exception": false,
     "start_time": "2021-11-30T07:59:06.411558",
     "status": "completed"
    },
    "tags": []
   },
   "outputs": [
    {
     "name": "stdout",
     "output_type": "stream",
     "text": [
      "Model performance metric report:\n",
      "Gradient Boosting ROC AUC for validation data: ROC AUC=0.78\n",
      "The harmonic mean for the Random forest Classifier, f1_score : 0.33\n"
     ]
    }
   ],
   "source": [
    "GB_clf = GradientBoostingClassifier(random_state=2)\n",
    "GB_auc,GB_confusion,f_score_GB = fit_Evaulate(GB_clf,X_train,y_train)\n",
    "print(\"Model performance metric report:\")\n",
    "print('Gradient Boosting ROC AUC for validation data: ROC AUC=%.2f' %(GB_auc))\n",
    "print('The harmonic mean for the Random forest Classifier, f1_score : {:.2f}'.format(f_score_GB))"
   ]
  },
  {
   "cell_type": "code",
   "execution_count": 65,
   "id": "b31692cf",
   "metadata": {
    "execution": {
     "iopub.execute_input": "2021-11-30T07:59:57.034806Z",
     "iopub.status.busy": "2021-11-30T07:59:57.031853Z",
     "iopub.status.idle": "2021-11-30T08:00:14.211353Z",
     "shell.execute_reply": "2021-11-30T08:00:14.210595Z",
     "shell.execute_reply.started": "2021-11-30T07:51:14.429946Z"
    },
    "papermill": {
     "duration": 17.286255,
     "end_time": "2021-11-30T08:00:14.211569",
     "exception": false,
     "start_time": "2021-11-30T07:59:56.925314",
     "status": "completed"
    },
    "tags": []
   },
   "outputs": [
    {
     "name": "stdout",
     "output_type": "stream",
     "text": [
      "[07:59:57] WARNING: ../src/learner.cc:1115: Starting in XGBoost 1.3.0, the default evaluation metric used with the objective 'binary:logistic' was changed from 'error' to 'logloss'. Explicitly set eval_metric if you'd like to restore the old behavior.\n",
      "Model performance metric report:\n",
      "Gradient Boosting ROC AUC for validation data: ROC AUC=0.78\n",
      "The harmonic mean for the XGB Classifier, f1_score : 0.38\n"
     ]
    }
   ],
   "source": [
    "XGB_clf = XGBClassifier(random_state=4)\n",
    "XGB_auc,XGB_confusion,f_score_XGB = fit_Evaulate(XGB_clf,X_train,y_train)\n",
    "print(\"Model performance metric report:\")\n",
    "print('Gradient Boosting ROC AUC for validation data: ROC AUC=%.2f' %(XGB_auc))\n",
    "print('The harmonic mean for the XGB Classifier, f1_score : {:.2f}'.format(f_score_XGB))"
   ]
  },
  {
   "cell_type": "code",
   "execution_count": 66,
   "id": "b9f09576",
   "metadata": {
    "execution": {
     "iopub.execute_input": "2021-11-30T08:00:14.422725Z",
     "iopub.status.busy": "2021-11-30T08:00:14.421850Z",
     "iopub.status.idle": "2021-11-30T08:00:14.426040Z",
     "shell.execute_reply": "2021-11-30T08:00:14.425353Z",
     "shell.execute_reply.started": "2021-11-30T07:56:57.140848Z"
    },
    "papermill": {
     "duration": 0.112867,
     "end_time": "2021-11-30T08:00:14.426254",
     "exception": false,
     "start_time": "2021-11-30T08:00:14.313387",
     "status": "completed"
    },
    "tags": []
   },
   "outputs": [
    {
     "name": "stdout",
     "output_type": "stream",
     "text": [
      "\n",
      " The Dammy class matrix  \n",
      " [[28778  8709]\n",
      " [ 8806  2852]] \n",
      "\n",
      " The Random Forest confusion matrix  \n",
      " [[32543  4944]\n",
      " [ 7643  4015]] \n",
      "\n",
      " The Gradient Boosting confusion matrix  \n",
      " [[36340  1147]\n",
      " [ 9143  2515]] \n",
      "\n",
      " The XGBClassifier confusion matrix   \n",
      " [[35713  1774]\n",
      " [ 8477  3181]]\n"
     ]
    }
   ],
   "source": [
    "print(\"\\n The Dammy class matrix  \\n {} \".format(Dammy_confusion))\n",
    "print(\"\\n The Random Forest confusion matrix  \\n {} \".format(RF_confusion))\n",
    "print(\"\\n The Gradient Boosting confusion matrix  \\n {} \".format(GB_confusion))\n",
    "print(\"\\n The XGBClassifier confusion matrix   \\n {}\".format(XGB_confusion))"
   ]
  },
  {
   "cell_type": "markdown",
   "id": "9deae6e8",
   "metadata": {
    "papermill": {
     "duration": 0.100769,
     "end_time": "2021-11-30T08:00:14.631349",
     "exception": false,
     "start_time": "2021-11-30T08:00:14.530580",
     "status": "completed"
    },
    "tags": []
   },
   "source": [
    "# **5. Evaluation and interpretation**"
   ]
  },
  {
   "cell_type": "markdown",
   "id": "1b3429a8",
   "metadata": {
    "papermill": {
     "duration": 0.101225,
     "end_time": "2021-11-30T08:00:14.833725",
     "exception": false,
     "start_time": "2021-11-30T08:00:14.732500",
     "status": "completed"
    },
    "tags": []
   },
   "source": [
    "**It can be observed that the random forest model had the better results in the confusion matrix for the positive class. It has identified more True postives than the rest of the models**"
   ]
  },
  {
   "cell_type": "code",
   "execution_count": 67,
   "id": "d1117827",
   "metadata": {
    "execution": {
     "iopub.execute_input": "2021-11-30T08:00:15.048588Z",
     "iopub.status.busy": "2021-11-30T08:00:15.047078Z",
     "iopub.status.idle": "2021-11-30T08:00:58.188892Z",
     "shell.execute_reply": "2021-11-30T08:00:58.189433Z",
     "shell.execute_reply.started": "2021-11-30T07:51:28.851693Z"
    },
    "papermill": {
     "duration": 43.252371,
     "end_time": "2021-11-30T08:00:58.189601",
     "exception": false,
     "start_time": "2021-11-30T08:00:14.937230",
     "status": "completed"
    },
    "tags": []
   },
   "outputs": [
    {
     "data": {
      "text/plain": [
       "RandomForestClassifier(class_weight='balanced', random_state=3)"
      ]
     },
     "execution_count": 67,
     "metadata": {},
     "output_type": "execute_result"
    }
   ],
   "source": [
    "#taking the model that had better results being the random forest model and fitting it\n",
    "model = RandomForestClassifier(class_weight=\"balanced\",random_state=3)\n",
    "model.fit(X_train, y_train)"
   ]
  },
  {
   "cell_type": "code",
   "execution_count": 68,
   "id": "750a7969",
   "metadata": {
    "execution": {
     "iopub.execute_input": "2021-11-30T08:00:58.397476Z",
     "iopub.status.busy": "2021-11-30T08:00:58.396805Z",
     "iopub.status.idle": "2021-11-30T08:01:03.341904Z",
     "shell.execute_reply": "2021-11-30T08:01:03.342436Z",
     "shell.execute_reply.started": "2021-11-30T07:52:07.649475Z"
    },
    "papermill": {
     "duration": 5.050163,
     "end_time": "2021-11-30T08:01:03.342608",
     "exception": false,
     "start_time": "2021-11-30T08:00:58.292445",
     "status": "completed"
    },
    "tags": []
   },
   "outputs": [
    {
     "name": "stdout",
     "output_type": "stream",
     "text": [
      "Gradient Boosting metrics: f1=0.389 auc=0.475\n"
     ]
    },
    {
     "data": {
      "image/png": "[encoded data removed]",
      "text/plain": [
       "<Figure size 432x288 with 1 Axes>"
      ]
     },
     "metadata": {
      "needs_background": "light"
     },
     "output_type": "display_data"
    }
   ],
   "source": [
    "# precision-recall curve and f1 for an imbalanced dataset using the random forest model \n",
    "y_pred=model.predict_proba(X_val)[:,1]#predict and retrieve probabilities for positive class\n",
    "#The F-Measure can be calculated by calling the f1_score() function \n",
    "#that takes the true class values and the predicted class values as arguments.\n",
    "\n",
    "y_pred2 = model.predict(X_val)# predict class values\n",
    "# calculate precision and recall for each threshold\n",
    "rf_precision, rf_recall, _ = precision_recall_curve(y_val, y_pred)\n",
    "# calculate scores\n",
    "rf_f1, rf_auc = f1_score(y_val, y_pred2), auc(rf_recall, rf_precision)\n",
    "# summarize scores\n",
    "print('Gradient Boosting metrics: f1=%.3f auc=%.3f' % (rf_f1,rf_auc))\n",
    "# plot the precision-recall curves\n",
    "no_skill = len(y_val[y_val==1]) / len(y_val)\n",
    "plt.plot([0, 1], [no_skill, no_skill], linestyle='--', label='No Skill')\n",
    "plt.plot(rf_recall,rf_precision, marker='.', label='Random_Forest')\n",
    "# axis labels\n",
    "plt.xlabel('Recall')\n",
    "plt.ylabel('Precision')\n",
    "# show the legend\n",
    "plt.legend()\n",
    "# show the plot\n",
    "plt.show()"
   ]
  },
  {
   "cell_type": "code",
   "execution_count": 69,
   "id": "06c68a7e",
   "metadata": {
    "execution": {
     "iopub.execute_input": "2021-11-30T08:01:03.558080Z",
     "iopub.status.busy": "2021-11-30T08:01:03.557449Z",
     "iopub.status.idle": "2021-11-30T08:01:03.638160Z",
     "shell.execute_reply": "2021-11-30T08:01:03.637216Z",
     "shell.execute_reply.started": "2021-11-30T07:52:11.849135Z"
    },
    "papermill": {
     "duration": 0.192174,
     "end_time": "2021-11-30T08:01:03.638405",
     "exception": false,
     "start_time": "2021-11-30T08:01:03.446231",
     "status": "completed"
    },
    "tags": []
   },
   "outputs": [
    {
     "name": "stdout",
     "output_type": "stream",
     "text": [
      "              precision    recall  f1-score   support\n",
      "\n",
      "           0       0.81      0.87      0.84     37487\n",
      "           1       0.45      0.34      0.39     11658\n",
      "\n",
      "    accuracy                           0.74     49145\n",
      "   macro avg       0.63      0.61      0.61     49145\n",
      "weighted avg       0.72      0.74      0.73     49145\n",
      "\n"
     ]
    }
   ],
   "source": [
    "#classification report at the defualt threshold of 0.5 for the positive class\n",
    "y_pred = np.where(y_pred > 0.5, 1,0)\n",
    "print(classification_report(y_val,y_pred))\n"
   ]
  },
  {
   "cell_type": "code",
   "execution_count": 70,
   "id": "19c1a0cd",
   "metadata": {
    "execution": {
     "iopub.execute_input": "2021-11-30T08:01:03.855348Z",
     "iopub.status.busy": "2021-11-30T08:01:03.854603Z",
     "iopub.status.idle": "2021-11-30T08:01:03.857366Z",
     "shell.execute_reply": "2021-11-30T08:01:03.857850Z",
     "shell.execute_reply.started": "2021-11-30T07:52:11.928776Z"
    },
    "papermill": {
     "duration": 0.113392,
     "end_time": "2021-11-30T08:01:03.858033",
     "exception": false,
     "start_time": "2021-11-30T08:01:03.744641",
     "status": "completed"
    },
    "tags": []
   },
   "outputs": [
    {
     "data": {
      "text/plain": [
       "array([1, 0, 0, 0, 0, 0, 0, 0, 0, 0])"
      ]
     },
     "execution_count": 70,
     "metadata": {},
     "output_type": "execute_result"
    }
   ],
   "source": [
    "#sample prediction for the first 10 data points\n",
    "y_pred[:10] "
   ]
  },
  {
   "cell_type": "markdown",
   "id": "6165ed07",
   "metadata": {
    "papermill": {
     "duration": 0.106335,
     "end_time": "2021-11-30T08:01:04.069340",
     "exception": false,
     "start_time": "2021-11-30T08:01:03.963005",
     "status": "completed"
    },
    "tags": []
   },
   "source": [
    "**Since we are interested in having a higher recall that is , identifying all the potential Is_lead clients who may also include some false positives. It's important for us to have higher recall since it's an imbalanced data set for our business case here and that we need to therefore identify  all the positive cases(all is lead customers). we shall threshold the probabilities from the default 0.5 for the positive class to 0.2.**"
   ]
  },
  {
   "cell_type": "code",
   "execution_count": 71,
   "id": "3071351b",
   "metadata": {
    "execution": {
     "iopub.execute_input": "2021-11-30T08:01:04.284960Z",
     "iopub.status.busy": "2021-11-30T08:01:04.284098Z",
     "iopub.status.idle": "2021-11-30T08:01:06.752386Z",
     "shell.execute_reply": "2021-11-30T08:01:06.753058Z",
     "shell.execute_reply.started": "2021-11-30T07:52:11.936779Z"
    },
    "papermill": {
     "duration": 2.577695,
     "end_time": "2021-11-30T08:01:06.753307",
     "exception": false,
     "start_time": "2021-11-30T08:01:04.175612",
     "status": "completed"
    },
    "tags": []
   },
   "outputs": [
    {
     "name": "stdout",
     "output_type": "stream",
     "text": [
      "              precision    recall  f1-score   support\n",
      "\n",
      "           0       0.86      0.67      0.75     37487\n",
      "           1       0.38      0.65      0.48     11658\n",
      "\n",
      "    accuracy                           0.67     49145\n",
      "   macro avg       0.62      0.66      0.62     49145\n",
      "weighted avg       0.75      0.67      0.69     49145\n",
      "\n"
     ]
    }
   ],
   "source": [
    "#evaluate the model on the performance of the validation set\n",
    "y_pred=model.predict_proba(X_val)[:,1]\n",
    "y_pred = np.where(y_pred > 0.2, 1,0)\n",
    "print(classification_report(y_val,y_pred))# summary of all the three metrics"
   ]
  },
  {
   "cell_type": "code",
   "execution_count": 72,
   "id": "52e63edd",
   "metadata": {
    "execution": {
     "iopub.execute_input": "2021-11-30T08:01:06.972339Z",
     "iopub.status.busy": "2021-11-30T08:01:06.971395Z",
     "iopub.status.idle": "2021-11-30T08:01:06.975495Z",
     "shell.execute_reply": "2021-11-30T08:01:06.974888Z",
     "shell.execute_reply.started": "2021-11-30T07:52:13.996279Z"
    },
    "papermill": {
     "duration": 0.117281,
     "end_time": "2021-11-30T08:01:06.975665",
     "exception": false,
     "start_time": "2021-11-30T08:01:06.858384",
     "status": "completed"
    },
    "tags": []
   },
   "outputs": [
    {
     "data": {
      "text/plain": [
       "array([1, 0, 1, 0, 0, 0, 1, 0, 1, 0])"
      ]
     },
     "execution_count": 72,
     "metadata": {},
     "output_type": "execute_result"
    }
   ],
   "source": [
    "#sample prediction for the first 10 data points\n",
    "y_pred[:10] "
   ]
  },
  {
   "cell_type": "code",
   "execution_count": 73,
   "id": "adb2c515",
   "metadata": {
    "execution": {
     "iopub.execute_input": "2021-11-30T08:01:07.195826Z",
     "iopub.status.busy": "2021-11-30T08:01:07.195099Z",
     "iopub.status.idle": "2021-11-30T08:04:39.826906Z",
     "shell.execute_reply": "2021-11-30T08:04:39.827450Z",
     "shell.execute_reply.started": "2021-11-30T07:52:14.004322Z"
    },
    "papermill": {
     "duration": 212.743677,
     "end_time": "2021-11-30T08:04:39.827669",
     "exception": false,
     "start_time": "2021-11-30T08:01:07.083992",
     "status": "completed"
    },
    "tags": []
   },
   "outputs": [
    {
     "data": {
      "text/html": [
       "<style type='text/css'>\n",
       ".datatable table.frame { margin-bottom: 0; }\n",
       ".datatable table.frame thead { border-bottom: none; }\n",
       ".datatable table.frame tr.coltypes td {  color: #FFFFFF;  line-height: 6px;  padding: 0 0.5em;}\n",
       ".datatable .bool    { background: #DDDD99; }\n",
       ".datatable .object  { background: #565656; }\n",
       ".datatable .int     { background: #5D9E5D; }\n",
       ".datatable .float   { background: #4040CC; }\n",
       ".datatable .str     { background: #CC4040; }\n",
       ".datatable .time    { background: #40CC40; }\n",
       ".datatable .row_index {  background: var(--jp-border-color3);  border-right: 1px solid var(--jp-border-color0);  color: var(--jp-ui-font-color3);  font-size: 9px;}\n",
       ".datatable .frame tbody td { text-align: left; }\n",
       ".datatable .frame tr.coltypes .row_index {  background: var(--jp-border-color0);}\n",
       ".datatable th:nth-child(2) { padding-left: 12px; }\n",
       ".datatable .hellipsis {  color: var(--jp-cell-editor-border-color);}\n",
       ".datatable .vellipsis {  background: var(--jp-layout-color0);  color: var(--jp-cell-editor-border-color);}\n",
       ".datatable .na {  color: var(--jp-cell-editor-border-color);  font-size: 80%;}\n",
       ".datatable .sp {  opacity: 0.25;}\n",
       ".datatable .footer { font-size: 9px; }\n",
       ".datatable .frame_dimensions {  background: var(--jp-border-color3);  border-top: 1px solid var(--jp-border-color0);  color: var(--jp-ui-font-color3);  display: inline-block;  opacity: 0.6;  padding: 1px 10px 1px 5px;}\n",
       "</style>\n"
      ],
      "text/plain": [
       "<IPython.core.display.HTML object>"
      ]
     },
     "metadata": {},
     "output_type": "display_data"
    },
    {
     "data": {
      "text/html": [
       "\n",
       "    <style>\n",
       "    table.eli5-weights tr:hover {\n",
       "        filter: brightness(85%);\n",
       "    }\n",
       "</style>\n",
       "\n",
       "\n",
       "\n",
       "    \n",
       "\n",
       "    \n",
       "\n",
       "    \n",
       "\n",
       "    \n",
       "\n",
       "    \n",
       "\n",
       "    \n",
       "\n",
       "\n",
       "    \n",
       "\n",
       "    \n",
       "\n",
       "    \n",
       "\n",
       "    \n",
       "\n",
       "    \n",
       "\n",
       "    \n",
       "\n",
       "\n",
       "    \n",
       "\n",
       "    \n",
       "\n",
       "    \n",
       "\n",
       "    \n",
       "\n",
       "    \n",
       "        <table class=\"eli5-weights eli5-feature-importances\" style=\"border-collapse: collapse; border: none; margin-top: 0em; table-layout: auto;\">\n",
       "    <thead>\n",
       "    <tr style=\"border: none;\">\n",
       "        <th style=\"padding: 0 1em 0 0.5em; text-align: right; border: none;\">Weight</th>\n",
       "        <th style=\"padding: 0 0.5em 0 0.5em; text-align: left; border: none;\">Feature</th>\n",
       "    </tr>\n",
       "    </thead>\n",
       "    <tbody>\n",
       "    \n",
       "        <tr style=\"background-color: hsl(120, 100.00%, 80.00%); border: none;\">\n",
       "            <td style=\"padding: 0 1em 0 0.5em; text-align: right; border: none;\">\n",
       "                0.0411\n",
       "                \n",
       "                    &plusmn; 0.0032\n",
       "                \n",
       "            </td>\n",
       "            <td style=\"padding: 0 0.5em 0 0.5em; text-align: left; border: none;\">\n",
       "                Occupation_Salaried\n",
       "            </td>\n",
       "        </tr>\n",
       "    \n",
       "        <tr style=\"background-color: hsl(120, 100.00%, 85.84%); border: none;\">\n",
       "            <td style=\"padding: 0 1em 0 0.5em; text-align: right; border: none;\">\n",
       "                0.0251\n",
       "                \n",
       "                    &plusmn; 0.0018\n",
       "                \n",
       "            </td>\n",
       "            <td style=\"padding: 0 0.5em 0 0.5em; text-align: left; border: none;\">\n",
       "                Occupation_Self_Employed\n",
       "            </td>\n",
       "        </tr>\n",
       "    \n",
       "        <tr style=\"background-color: hsl(120, 100.00%, 92.26%); border: none;\">\n",
       "            <td style=\"padding: 0 1em 0 0.5em; text-align: right; border: none;\">\n",
       "                0.0106\n",
       "                \n",
       "                    &plusmn; 0.0016\n",
       "                \n",
       "            </td>\n",
       "            <td style=\"padding: 0 0.5em 0 0.5em; text-align: left; border: none;\">\n",
       "                Channel_Code_X2\n",
       "            </td>\n",
       "        </tr>\n",
       "    \n",
       "        <tr style=\"background-color: hsl(120, 100.00%, 92.60%); border: none;\">\n",
       "            <td style=\"padding: 0 1em 0 0.5em; text-align: right; border: none;\">\n",
       "                0.0099\n",
       "                \n",
       "                    &plusmn; 0.0012\n",
       "                \n",
       "            </td>\n",
       "            <td style=\"padding: 0 0.5em 0 0.5em; text-align: left; border: none;\">\n",
       "                Is_Active_Yes\n",
       "            </td>\n",
       "        </tr>\n",
       "    \n",
       "        <tr style=\"background-color: hsl(120, 100.00%, 93.75%); border: none;\">\n",
       "            <td style=\"padding: 0 1em 0 0.5em; text-align: right; border: none;\">\n",
       "                0.0078\n",
       "                \n",
       "                    &plusmn; 0.0017\n",
       "                \n",
       "            </td>\n",
       "            <td style=\"padding: 0 0.5em 0 0.5em; text-align: left; border: none;\">\n",
       "                Credit_Product_Yes\n",
       "            </td>\n",
       "        </tr>\n",
       "    \n",
       "        <tr style=\"background-color: hsl(120, 100.00%, 98.35%); border: none;\">\n",
       "            <td style=\"padding: 0 1em 0 0.5em; text-align: right; border: none;\">\n",
       "                0.0012\n",
       "                \n",
       "                    &plusmn; 0.0021\n",
       "                \n",
       "            </td>\n",
       "            <td style=\"padding: 0 0.5em 0 0.5em; text-align: left; border: none;\">\n",
       "                Avg_Account_Balance\n",
       "            </td>\n",
       "        </tr>\n",
       "    \n",
       "        <tr style=\"background-color: hsl(120, 100.00%, 99.40%); border: none;\">\n",
       "            <td style=\"padding: 0 1em 0 0.5em; text-align: right; border: none;\">\n",
       "                0.0003\n",
       "                \n",
       "                    &plusmn; 0.0017\n",
       "                \n",
       "            </td>\n",
       "            <td style=\"padding: 0 0.5em 0 0.5em; text-align: left; border: none;\">\n",
       "                Gender_Male\n",
       "            </td>\n",
       "        </tr>\n",
       "    \n",
       "        <tr style=\"background-color: hsl(120, 100.00%, 99.77%); border: none;\">\n",
       "            <td style=\"padding: 0 1em 0 0.5em; text-align: right; border: none;\">\n",
       "                0.0001\n",
       "                \n",
       "                    &plusmn; 0.0007\n",
       "                \n",
       "            </td>\n",
       "            <td style=\"padding: 0 0.5em 0 0.5em; text-align: left; border: none;\">\n",
       "                Occupation_Other\n",
       "            </td>\n",
       "        </tr>\n",
       "    \n",
       "        <tr style=\"background-color: hsl(0, 100.00%, 98.97%); border: none;\">\n",
       "            <td style=\"padding: 0 1em 0 0.5em; text-align: right; border: none;\">\n",
       "                -0.0006\n",
       "                \n",
       "                    &plusmn; 0.0003\n",
       "                \n",
       "            </td>\n",
       "            <td style=\"padding: 0 0.5em 0 0.5em; text-align: left; border: none;\">\n",
       "                Channel_Code_X4\n",
       "            </td>\n",
       "        </tr>\n",
       "    \n",
       "        <tr style=\"background-color: hsl(0, 100.00%, 96.72%); border: none;\">\n",
       "            <td style=\"padding: 0 1em 0 0.5em; text-align: right; border: none;\">\n",
       "                -0.0031\n",
       "                \n",
       "                    &plusmn; 0.0012\n",
       "                \n",
       "            </td>\n",
       "            <td style=\"padding: 0 0.5em 0 0.5em; text-align: left; border: none;\">\n",
       "                Channel_Code_X3\n",
       "            </td>\n",
       "        </tr>\n",
       "    \n",
       "        <tr style=\"background-color: hsl(0, 100.00%, 85.89%); border: none;\">\n",
       "            <td style=\"padding: 0 1em 0 0.5em; text-align: right; border: none;\">\n",
       "                -0.0250\n",
       "                \n",
       "                    &plusmn; 0.0014\n",
       "                \n",
       "            </td>\n",
       "            <td style=\"padding: 0 0.5em 0 0.5em; text-align: left; border: none;\">\n",
       "                Vintage_y\n",
       "            </td>\n",
       "        </tr>\n",
       "    \n",
       "        <tr style=\"background-color: hsl(0, 100.00%, 85.41%); border: none;\">\n",
       "            <td style=\"padding: 0 1em 0 0.5em; text-align: right; border: none;\">\n",
       "                -0.0262\n",
       "                \n",
       "                    &plusmn; 0.0007\n",
       "                \n",
       "            </td>\n",
       "            <td style=\"padding: 0 0.5em 0 0.5em; text-align: left; border: none;\">\n",
       "                Vintage^3\n",
       "            </td>\n",
       "        </tr>\n",
       "    \n",
       "        <tr style=\"background-color: hsl(0, 100.00%, 85.25%); border: none;\">\n",
       "            <td style=\"padding: 0 1em 0 0.5em; text-align: right; border: none;\">\n",
       "                -0.0266\n",
       "                \n",
       "                    &plusmn; 0.0016\n",
       "                \n",
       "            </td>\n",
       "            <td style=\"padding: 0 0.5em 0 0.5em; text-align: left; border: none;\">\n",
       "                Vintage^2\n",
       "            </td>\n",
       "        </tr>\n",
       "    \n",
       "        <tr style=\"background-color: hsl(0, 100.00%, 85.04%); border: none;\">\n",
       "            <td style=\"padding: 0 1em 0 0.5em; text-align: right; border: none;\">\n",
       "                -0.0272\n",
       "                \n",
       "                    &plusmn; 0.0013\n",
       "                \n",
       "            </td>\n",
       "            <td style=\"padding: 0 0.5em 0 0.5em; text-align: left; border: none;\">\n",
       "                Age_y\n",
       "            </td>\n",
       "        </tr>\n",
       "    \n",
       "        <tr style=\"background-color: hsl(0, 100.00%, 84.96%); border: none;\">\n",
       "            <td style=\"padding: 0 1em 0 0.5em; text-align: right; border: none;\">\n",
       "                -0.0274\n",
       "                \n",
       "                    &plusmn; 0.0010\n",
       "                \n",
       "            </td>\n",
       "            <td style=\"padding: 0 0.5em 0 0.5em; text-align: left; border: none;\">\n",
       "                Vintage_x\n",
       "            </td>\n",
       "        </tr>\n",
       "    \n",
       "        <tr style=\"background-color: hsl(0, 100.00%, 84.91%); border: none;\">\n",
       "            <td style=\"padding: 0 1em 0 0.5em; text-align: right; border: none;\">\n",
       "                -0.0275\n",
       "                \n",
       "                    &plusmn; 0.0009\n",
       "                \n",
       "            </td>\n",
       "            <td style=\"padding: 0 0.5em 0 0.5em; text-align: left; border: none;\">\n",
       "                Age_x\n",
       "            </td>\n",
       "        </tr>\n",
       "    \n",
       "        <tr style=\"background-color: hsl(0, 100.00%, 84.83%); border: none;\">\n",
       "            <td style=\"padding: 0 1em 0 0.5em; text-align: right; border: none;\">\n",
       "                -0.0277\n",
       "                \n",
       "                    &plusmn; 0.0010\n",
       "                \n",
       "            </td>\n",
       "            <td style=\"padding: 0 0.5em 0 0.5em; text-align: left; border: none;\">\n",
       "                Age^2\n",
       "            </td>\n",
       "        </tr>\n",
       "    \n",
       "        <tr style=\"background-color: hsl(0, 100.00%, 84.49%); border: none;\">\n",
       "            <td style=\"padding: 0 1em 0 0.5em; text-align: right; border: none;\">\n",
       "                -0.0286\n",
       "                \n",
       "                    &plusmn; 0.0009\n",
       "                \n",
       "            </td>\n",
       "            <td style=\"padding: 0 0.5em 0 0.5em; text-align: left; border: none;\">\n",
       "                Age^3\n",
       "            </td>\n",
       "        </tr>\n",
       "    \n",
       "        <tr style=\"background-color: hsl(0, 100.00%, 83.01%); border: none;\">\n",
       "            <td style=\"padding: 0 1em 0 0.5em; text-align: right; border: none;\">\n",
       "                -0.0326\n",
       "                \n",
       "                    &plusmn; 0.0009\n",
       "                \n",
       "            </td>\n",
       "            <td style=\"padding: 0 0.5em 0 0.5em; text-align: left; border: none;\">\n",
       "                Age^2 Vintage\n",
       "            </td>\n",
       "        </tr>\n",
       "    \n",
       "        <tr style=\"background-color: hsl(0, 100.00%, 82.54%); border: none;\">\n",
       "            <td style=\"padding: 0 1em 0 0.5em; text-align: right; border: none;\">\n",
       "                -0.0339\n",
       "                \n",
       "                    &plusmn; 0.0008\n",
       "                \n",
       "            </td>\n",
       "            <td style=\"padding: 0 0.5em 0 0.5em; text-align: left; border: none;\">\n",
       "                Age Vintage^2\n",
       "            </td>\n",
       "        </tr>\n",
       "    \n",
       "    \n",
       "        \n",
       "            <tr style=\"background-color: hsl(0, 100.00%, 82.54%); border: none;\">\n",
       "                <td colspan=\"2\" style=\"padding: 0 0.5em 0 0.5em; text-align: center; border: none; white-space: nowrap;\">\n",
       "                    <i>&hellip; 1 more &hellip;</i>\n",
       "                </td>\n",
       "            </tr>\n",
       "        \n",
       "    \n",
       "    </tbody>\n",
       "</table>\n",
       "    \n",
       "\n",
       "    \n",
       "\n",
       "\n",
       "    \n",
       "\n",
       "    \n",
       "\n",
       "    \n",
       "\n",
       "    \n",
       "\n",
       "    \n",
       "\n",
       "    \n",
       "\n",
       "\n",
       "\n"
      ],
      "text/plain": [
       "<IPython.core.display.HTML object>"
      ]
     },
     "execution_count": 73,
     "metadata": {},
     "output_type": "execute_result"
    }
   ],
   "source": [
    "import eli5\n",
    "from eli5.sklearn import PermutationImportance\n",
    "\n",
    "perm = PermutationImportance(model, random_state=1).fit(X_val, y_val)\n",
    "eli5.show_weights(perm, feature_names = X_val.columns.tolist())"
   ]
  },
  {
   "cell_type": "markdown",
   "id": "ad63d55e",
   "metadata": {
    "papermill": {
     "duration": 0.106497,
     "end_time": "2021-11-30T08:04:40.041005",
     "exception": false,
     "start_time": "2021-11-30T08:04:39.934508",
     "status": "completed"
    },
    "tags": []
   },
   "source": [
    "**It can be observed that the three most important features that the model considered in classifying which customers are credit card lead and which are not were occupation_salaried, occupation_self_employed and channel code**"
   ]
  },
  {
   "cell_type": "code",
   "execution_count": 74,
   "id": "0608a23b",
   "metadata": {
    "execution": {
     "iopub.execute_input": "2021-11-30T08:04:40.263551Z",
     "iopub.status.busy": "2021-11-30T08:04:40.262802Z",
     "iopub.status.idle": "2021-11-30T08:04:44.444764Z",
     "shell.execute_reply": "2021-11-30T08:04:44.443973Z",
     "shell.execute_reply.started": "2021-11-30T07:55:22.421870Z"
    },
    "papermill": {
     "duration": 4.296494,
     "end_time": "2021-11-30T08:04:44.444932",
     "exception": false,
     "start_time": "2021-11-30T08:04:40.148438",
     "status": "completed"
    },
    "tags": []
   },
   "outputs": [],
   "source": [
    "#evaluate the model on the performance of the test set\n",
    "y_pred_test=model.predict_proba(testing)[:,1]\n",
    "y_pred_test = np.where(y_pred_test > 0.2, 1,0)"
   ]
  },
  {
   "cell_type": "code",
   "execution_count": 75,
   "id": "3ad24235",
   "metadata": {
    "execution": {
     "iopub.execute_input": "2021-11-30T08:04:44.665862Z",
     "iopub.status.busy": "2021-11-30T08:04:44.664831Z",
     "iopub.status.idle": "2021-11-30T08:04:44.886765Z",
     "shell.execute_reply": "2021-11-30T08:04:44.886046Z",
     "shell.execute_reply.started": "2021-11-30T07:55:26.359055Z"
    },
    "papermill": {
     "duration": 0.334052,
     "end_time": "2021-11-30T08:04:44.886936",
     "exception": false,
     "start_time": "2021-11-30T08:04:44.552884",
     "status": "completed"
    },
    "tags": []
   },
   "outputs": [],
   "source": [
    "#Create a submission file on Kaggle\n",
    "Submit = pd.DataFrame({\n",
    "        \"ID\": test[\"ID\"],\n",
    "        \"Is_Lead\": y_pred_test\n",
    "    })\n",
    "\n",
    "Submit.to_csv('Submit.csv', index=False)"
   ]
  },
  {
   "cell_type": "code",
   "execution_count": 76,
   "id": "dc7d1bf5",
   "metadata": {
    "execution": {
     "iopub.execute_input": "2021-11-30T08:04:45.105200Z",
     "iopub.status.busy": "2021-11-30T08:04:45.104547Z",
     "iopub.status.idle": "2021-11-30T08:04:45.113830Z",
     "shell.execute_reply": "2021-11-30T08:04:45.114459Z",
     "shell.execute_reply.started": "2021-11-30T07:55:26.486364Z"
    },
    "papermill": {
     "duration": 0.119615,
     "end_time": "2021-11-30T08:04:45.114631",
     "exception": false,
     "start_time": "2021-11-30T08:04:44.995016",
     "status": "completed"
    },
    "tags": []
   },
   "outputs": [
    {
     "data": {
      "text/html": [
       "<div>\n",
       "<style scoped>\n",
       "    .dataframe tbody tr th:only-of-type {\n",
       "        vertical-align: middle;\n",
       "    }\n",
       "\n",
       "    .dataframe tbody tr th {\n",
       "        vertical-align: top;\n",
       "    }\n",
       "\n",
       "    .dataframe thead th {\n",
       "        text-align: right;\n",
       "    }\n",
       "</style>\n",
       "<table border=\"1\" class=\"dataframe\">\n",
       "  <thead>\n",
       "    <tr style=\"text-align: right;\">\n",
       "      <th></th>\n",
       "      <th>Is_Lead</th>\n",
       "    </tr>\n",
       "    <tr>\n",
       "      <th>ID</th>\n",
       "      <th></th>\n",
       "    </tr>\n",
       "  </thead>\n",
       "  <tbody>\n",
       "    <tr>\n",
       "      <th>VBENBARO</th>\n",
       "      <td>0</td>\n",
       "    </tr>\n",
       "    <tr>\n",
       "      <th>CCMEWNKY</th>\n",
       "      <td>0</td>\n",
       "    </tr>\n",
       "    <tr>\n",
       "      <th>VK3KGA9M</th>\n",
       "      <td>0</td>\n",
       "    </tr>\n",
       "    <tr>\n",
       "      <th>TT8RPZVC</th>\n",
       "      <td>0</td>\n",
       "    </tr>\n",
       "    <tr>\n",
       "      <th>SHQZEYTZ</th>\n",
       "      <td>0</td>\n",
       "    </tr>\n",
       "    <tr>\n",
       "      <th>MZZAQMPT</th>\n",
       "      <td>1</td>\n",
       "    </tr>\n",
       "    <tr>\n",
       "      <th>Y88TW36I</th>\n",
       "      <td>0</td>\n",
       "    </tr>\n",
       "    <tr>\n",
       "      <th>3UGOAQNU</th>\n",
       "      <td>0</td>\n",
       "    </tr>\n",
       "    <tr>\n",
       "      <th>VVUKMUJT</th>\n",
       "      <td>1</td>\n",
       "    </tr>\n",
       "    <tr>\n",
       "      <th>9R363ZXS</th>\n",
       "      <td>0</td>\n",
       "    </tr>\n",
       "  </tbody>\n",
       "</table>\n",
       "</div>"
      ],
      "text/plain": [
       "          Is_Lead\n",
       "ID               \n",
       "VBENBARO        0\n",
       "CCMEWNKY        0\n",
       "VK3KGA9M        0\n",
       "TT8RPZVC        0\n",
       "SHQZEYTZ        0\n",
       "MZZAQMPT        1\n",
       "Y88TW36I        0\n",
       "3UGOAQNU        0\n",
       "VVUKMUJT        1\n",
       "9R363ZXS        0"
      ]
     },
     "execution_count": 76,
     "metadata": {},
     "output_type": "execute_result"
    }
   ],
   "source": [
    "Submit.head(10).set_index('ID')"
   ]
  },
  {
   "cell_type": "markdown",
   "id": "79f6cfac",
   "metadata": {
    "papermill": {
     "duration": 0.105453,
     "end_time": "2021-11-30T08:04:45.327485",
     "exception": false,
     "start_time": "2021-11-30T08:04:45.222032",
     "status": "completed"
    },
    "tags": []
   },
   "source": [
    "This notebook is still a work in  progress, i will be updating it as soon as i have time\n",
    "**please!you can upvote for this note book if you find it insightful.**"
   ]
  }
 ],
 "metadata": {
  "kernelspec": {
   "display_name": "Python 3",
   "language": "python",
   "name": "python3"
  },
  "language_info": {
   "codemirror_mode": {
    "name": "ipython",
    "version": 3
   },
   "file_extension": ".py",
   "mimetype": "text/x-python",
   "name": "python",
   "nbconvert_exporter": "python",
   "pygments_lexer": "ipython3",
   "version": "3.7.10"
  },
  "papermill": {
   "default_parameters": {},
   "duration": 430.116838,
   "end_time": "2021-11-30T08:04:48.616874",
   "environment_variables": {},
   "exception": null,
   "input_path": "__notebook__.ipynb",
   "output_path": "__notebook__.ipynb",
   "parameters": {},
   "start_time": "2021-11-30T07:57:38.500036",
   "version": "2.3.3"
  }
 },
 "nbformat": 4,
 "nbformat_minor": 5
}
